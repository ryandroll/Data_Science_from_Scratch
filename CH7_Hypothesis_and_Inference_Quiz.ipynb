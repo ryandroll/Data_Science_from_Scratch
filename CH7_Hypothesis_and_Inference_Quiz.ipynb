{
 "cells": [
  {
   "cell_type": "code",
   "execution_count": 1,
   "metadata": {
    "collapsed": true
   },
   "outputs": [],
   "source": [
    "# Jupyter magic commands\n",
    "%matplotlib inline\n",
    "\n",
    "# Python's standard library \n",
    "import math, random\n",
    "from collections import Counter\n",
    "\n",
    "# Third-party library\n",
    "import matplotlib.pyplot as plt\n",
    "from numpy.random import binomial\n",
    "\n",
    "# Private library"
   ]
  },
  {
   "cell_type": "code",
   "execution_count": 2,
   "metadata": {
    "collapsed": false
   },
   "outputs": [
    {
     "name": "stdout",
     "output_type": "stream",
     "text": [
      "[486, 488, 490, 495, 500, 504, 506, 506, 517, 517]\n"
     ]
    }
   ],
   "source": [
    "n, p = 1, .33  # n = coins flipped, p = prob of success\n",
    "s = binomial(1000, 0.50, 10)\n",
    "print(sorted(s))"
   ]
  }
 ],
 "metadata": {
  "anaconda-cloud": {},
  "kernelspec": {
   "display_name": "Python [py34]",
   "language": "python",
   "name": "Python [py34]"
  },
  "language_info": {
   "codemirror_mode": {
    "name": "ipython",
    "version": 3
   },
   "file_extension": ".py",
   "mimetype": "text/x-python",
   "name": "python",
   "nbconvert_exporter": "python",
   "pygments_lexer": "ipython3",
   "version": "3.4.5"
  }
 },
 "nbformat": 4,
 "nbformat_minor": 0
}
