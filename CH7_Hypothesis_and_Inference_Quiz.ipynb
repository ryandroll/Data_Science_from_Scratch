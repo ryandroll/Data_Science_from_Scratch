{
 "cells": [
  {
   "cell_type": "code",
   "execution_count": 1,
   "metadata": {
    "collapsed": true
   },
   "outputs": [],
   "source": [
    "%matplotlib inline\n",
    "import matplotlib.pyplot as plt\n",
    "from collections import Counter\n",
    "import math, random\n",
    "import numpy as np"
   ]
  },
  {
   "cell_type": "code",
   "execution_count": 5,
   "metadata": {
    "collapsed": false
   },
   "outputs": [
    {
     "name": "stdout",
     "output_type": "stream",
     "text": [
      "[468, 474, 474, 474, 475, 477, 478, 480, 481, 481, 483, 483, 484, 486, 487, 487, 487, 487, 488, 489, 489, 490, 490, 490, 491, 492, 492, 493, 494, 495, 495, 496, 496, 496, 496, 496, 497, 499, 499, 499, 499, 500, 500, 501, 502, 502, 503, 504, 505, 505, 505, 506, 506, 506, 507, 507, 508, 509, 509, 509, 509, 510, 510, 511, 511, 512, 513, 514, 514, 514, 515, 515, 515, 517, 517, 517, 517, 518, 518, 519, 519, 519, 520, 520, 521, 521, 521, 522, 523, 525, 525, 529, 530, 530, 530, 531, 532, 532, 533, 537]\n"
     ]
    }
   ],
   "source": [
    "n, p = 1, .33  # n = coins flipped, p = prob of success\n",
    "s = np.random.binomial(1000, 0.50, 100)\n",
    "print(sorted(s))"
   ]
  }
 ],
 "metadata": {
  "anaconda-cloud": {},
  "kernelspec": {
   "display_name": "Python [py34]",
   "language": "python",
   "name": "Python [py34]"
  },
  "language_info": {
   "codemirror_mode": {
    "name": "ipython",
    "version": 3
   },
   "file_extension": ".py",
   "mimetype": "text/x-python",
   "name": "python",
   "nbconvert_exporter": "python",
   "pygments_lexer": "ipython3",
   "version": "3.4.5"
  }
 },
 "nbformat": 4,
 "nbformat_minor": 0
}
