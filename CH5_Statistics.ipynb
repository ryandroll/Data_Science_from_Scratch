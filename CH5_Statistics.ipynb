{
 "cells": [
  {
   "cell_type": "markdown",
   "metadata": {},
   "source": [
    "## 5.1 描述單個數據集\n",
    "夠小的數據可以直接表達，太大的話就要靠統計提煉相關特徵"
   ]
  },
  {
   "cell_type": "code",
   "execution_count": 5,
   "metadata": {
    "collapsed": false,
    "init_cell": true
   },
   "outputs": [],
   "source": [
    "%matplotlib inline\n",
    "import matplotlib.pyplot as plt\n",
    "from collections import Counter\n",
    "import math"
   ]
  },
  {
   "cell_type": "code",
   "execution_count": 2,
   "metadata": {
    "collapsed": true
   },
   "outputs": [],
   "source": [
    "num_friends = [100,49,41,40,25,21,21,19,19,18,18,16,15,15,15,15,14,14,13,13,13,13,12,12,11,10,10,\n",
    "               10,10,10,10,10,10,10,10,10,10,10,10,10,9,9,9,9,9,9,9,9,9,9,9,9,9,9,9,9,9,9,8,8,8,8\n",
    "               ,8,8,8,8,8,8,8,8,8,7,7,7,7,7,7,7,7,7,7,7,7,7,7,7,6,6,6,6,6,6,6,6,6,6,6,6,6,6,6,6,6\n",
    "               ,6,6,6,6,6,5,5,5,5,5,5,5,5,5,5,5,5,5,5,5,5,5,4,4,4,4,4,4,4,4,4,4,4,4,4,4,4,4,4,4,4\n",
    "               ,4,3,3,3,3,3,3,3,3,3,3,3,3,3,3,3,3,3,3,3,3,2,2,2,2,2,2,2,2,2,2,2,2,2,2,2,2,2,1,1,1\n",
    "               ,1,1,1,1,1,1,1,1,1,1,1,1,1,1,1,1,1,1,1]"
   ]
  },
  {
   "cell_type": "code",
   "execution_count": 7,
   "metadata": {
    "collapsed": false
   },
   "outputs": [
    {
     "data": {
      "image/png": "[encoded data removed]",
      "text/plain": [
       "<matplotlib.figure.Figure at 0x34562b0>"
      ]
     },
     "metadata": {},
     "output_type": "display_data"
    }
   ],
   "source": [
    "def make_friend_counts_histogram(plt):\n",
    "    friend_counts = Counter(num_friends)\n",
    "    xs = range(101)\n",
    "    ys = [friend_counts[x] for x in xs]\n",
    "    plt.bar(xs, ys)\n",
    "    plt.axis([0,101,0,25])\n",
    "    plt.title(\"Histogram of Friend Counts\")\n",
    "    plt.xlabel(\"# of friends\")\n",
    "    plt.ylabel(\"# of people\")\n",
    "    plt.show()\n",
    "    \n",
    "make_friend_counts_histogram(plt)"
   ]
  },
  {
   "cell_type": "code",
   "execution_count": 12,
   "metadata": {
    "collapsed": false
   },
   "outputs": [
    {
     "data": {
      "image/png": "[encoded data removed]",
      "text/plain": [
       "<matplotlib.figure.Figure at 0x556be80>"
      ]
     },
     "metadata": {},
     "output_type": "display_data"
    }
   ],
   "source": [
    "def make_friend_counts_histogram_modified(plt):\n",
    "    friend_counts = Counter(num_friends)\n",
    "\n",
    "    plt.bar(friend_counts.keys(), friend_counts.values())\n",
    "    plt.axis([0,101,0,25])\n",
    "    plt.title(\"Histogram of Friend Counts\")\n",
    "    plt.xlabel(\"# of friends\")\n",
    "    plt.ylabel(\"# of people\")\n",
    "    plt.show()\n",
    "    \n",
    "make_friend_counts_histogram_modified(plt)"
   ]
  },
  {
   "cell_type": "code",
   "execution_count": 13,
   "metadata": {
    "collapsed": true
   },
   "outputs": [],
   "source": [
    "um_points = len(num_friends)               # 204\n",
    "largest_value = max(num_friends)            # 100\n",
    "smallest_value = min(num_friends)           # 1\n",
    "\n",
    "sorted_values = sorted(num_friends)\n",
    "smallest_value = sorted_values[0]           # 1\n",
    "second_smallest_value = sorted_values[1]    # 1\n",
    "second_largest_value = sorted_values[-2]    # 49"
   ]
  },
  {
   "cell_type": "code",
   "execution_count": 16,
   "metadata": {
    "collapsed": false
   },
   "outputs": [
    {
     "name": "stdout",
     "output_type": "stream",
     "text": [
      "num_points:  204\n",
      "largest value:  100\n",
      "smallest value:  1\n",
      "second_smallest_value:  1\n",
      "second_largest_value:  49\n"
     ]
    }
   ],
   "source": [
    "print(\"num_points: \", len(num_friends))\n",
    "print(\"largest value: \", max(num_friends))\n",
    "print(\"smallest value: \", min(num_friends))\n",
    "print(\"second_smallest_value: \", sorted_values[1])\n",
    "print(\"second_largest_value: \", sorted_values[-2])"
   ]
  },
  {
   "cell_type": "markdown",
   "metadata": {},
   "source": [
    "## 5.1.1 中心傾向\n",
    "平均、中位數、眾數"
   ]
  },
  {
   "cell_type": "code",
   "execution_count": 14,
   "metadata": {
    "collapsed": true
   },
   "outputs": [],
   "source": [
    "def mean(x):\n",
    "    return sum(x) / len(x)\n",
    "\n",
    "def median(v):\n",
    "    \"\"\"finds the 'middle-most' value of v\"\"\"\n",
    "    n = len(v)\n",
    "    sorted_v = sorted(v)\n",
    "    midpoint = n // 2\n",
    "\n",
    "    if n % 2 == 1:\n",
    "        # if odd, return the middle value\n",
    "        return sorted_v[midpoint]\n",
    "    else:\n",
    "        # if even, return the average of the middle values\n",
    "        lo = midpoint - 1\n",
    "        hi = midpoint\n",
    "        return (sorted_v[lo] + sorted_v[hi]) / 2\n",
    "\n",
    "def quantile(x, p):\n",
    "    \"\"\"returns the pth-percentile value in x\"\"\"\n",
    "    p_index = int(p * len(x))\n",
    "    return sorted(x)[p_index]\n",
    "\n",
    "def mode(x):\n",
    "    \"\"\"returns a list, might be more than one mode\"\"\"\n",
    "    counts = Counter(x)\n",
    "    max_count = max(counts.values())\n",
    "    return [x_i for x_i, count in counts.items()\n",
    "            if count == max_count]"
   ]
  },
  {
   "cell_type": "code",
   "execution_count": 17,
   "metadata": {
    "collapsed": false
   },
   "outputs": [
    {
     "name": "stdout",
     "output_type": "stream",
     "text": [
      "mean(num_friends) 7.333333333333333\n",
      "median(num_friends) 6.0\n",
      "quantile(num_friends, 0.10) 1\n",
      "quantile(num_friends, 0.25) 3\n",
      "quantile(num_friends, 0.75) 9\n",
      "quantile(num_friends, 0.90) 13\n",
      "mode(num_friends) [1, 6]\n"
     ]
    }
   ],
   "source": [
    "print(\"mean(num_friends)\", mean(num_friends))\n",
    "print(\"median(num_friends)\", median(num_friends))\n",
    "print(\"quantile(num_friends, 0.10)\", quantile(num_friends, 0.10))\n",
    "print(\"quantile(num_friends, 0.25)\", quantile(num_friends, 0.25))\n",
    "print(\"quantile(num_friends, 0.75)\", quantile(num_friends, 0.75))\n",
    "print(\"quantile(num_friends, 0.90)\", quantile(num_friends, 0.90))\n",
    "print(\"mode(num_friends)\", mode(num_friends))"
   ]
  },
  {
   "cell_type": "markdown",
   "metadata": {},
   "source": [
    "## 5.1.2 離散度\n",
    "離散度與方差"
   ]
  },
  {
   "cell_type": "markdown",
   "metadata": {},
   "source": [
    "## 5.2 相關"
   ]
  },
  {
   "cell_type": "markdown",
   "metadata": {},
   "source": [
    "## 5.3 辛普森悖論"
   ]
  },
  {
   "cell_type": "markdown",
   "metadata": {},
   "source": [
    "## 5.4 相關係數其他注意事項"
   ]
  },
  {
   "cell_type": "code",
   "execution_count": null,
   "metadata": {
    "collapsed": true
   },
   "outputs": [],
   "source": []
  }
 ],
 "metadata": {
  "anaconda-cloud": {},
  "celltoolbar": "Initialisation Cell",
  "kernelspec": {
   "display_name": "Python [py34]",
   "language": "python",
   "name": "Python [py34]"
  },
  "language_info": {
   "codemirror_mode": {
    "name": "ipython",
    "version": 3
   },
   "file_extension": ".py",
   "mimetype": "text/x-python",
   "name": "python",
   "nbconvert_exporter": "python",
   "pygments_lexer": "ipython3",
   "version": "3.4.5"
  }
 },
 "nbformat": 4,
 "nbformat_minor": 0
}
