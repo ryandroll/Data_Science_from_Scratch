{
 "cells": [
  {
   "cell_type": "markdown",
   "metadata": {},
   "source": [
    "## 自我小測驗，可視化單字列表中，每個字母開頭的數目"
   ]
  },
  {
   "cell_type": "code",
   "execution_count": 11,
   "metadata": {
    "collapsed": true,
    "init_cell": true
   },
   "outputs": [],
   "source": [
    "%matplotlib inline\n",
    "import matplotlib.pyplot as plt\n",
    "from collections import Counter"
   ]
  },
  {
   "cell_type": "code",
   "execution_count": 1,
   "metadata": {
    "collapsed": true
   },
   "outputs": [],
   "source": [
    "def loadWords(file = 'Data\\words.txt'):\n",
    "    print(\"Loading word list from file...\")\n",
    "    fin = open(file, 'r')\n",
    "    wordList = []\n",
    "    for wrd in fin:\n",
    "        wordList.append(wrd.strip())\n",
    "    print(\"  \", len(wordList), \"words loaded.\")\n",
    "    return wordList"
   ]
  },
  {
   "cell_type": "code",
   "execution_count": 2,
   "metadata": {
    "collapsed": false
   },
   "outputs": [
    {
     "name": "stdout",
     "output_type": "stream",
     "text": [
      "Loading word list from file...\n",
      "   113809 words loaded.\n"
     ]
    }
   ],
   "source": [
    "wordList = loadWords()"
   ]
  },
  {
   "cell_type": "code",
   "execution_count": 5,
   "metadata": {
    "collapsed": true
   },
   "outputs": [],
   "source": [
    "def dict_by_alphabet(lst):\n",
    "    dct = {}\n",
    "    for wrd in lst:\n",
    "        if wrd[0] not in dct.keys():\n",
    "            dct[wrd[0]] = [wrd]\n",
    "        else:\n",
    "            dct[wrd[0]] += [wrd]\n",
    "    return dct"
   ]
  },
  {
   "cell_type": "code",
   "execution_count": 6,
   "metadata": {
    "collapsed": true
   },
   "outputs": [],
   "source": [
    "dict_alphabet = dict_by_alphabet(wordList)"
   ]
  },
  {
   "cell_type": "code",
   "execution_count": 18,
   "metadata": {
    "collapsed": true
   },
   "outputs": [],
   "source": [
    "from collections import OrderedDict\n",
    "dict_alphabet_count = OrderedDict(sorted({k:len(v) for k, v in dict_alphabet.items()}.items()))"
   ]
  },
  {
   "cell_type": "code",
   "execution_count": 19,
   "metadata": {
    "collapsed": false
   },
   "outputs": [
    {
     "data": {
      "text/plain": [
       "OrderedDict([('a', 6557),\n",
       "             ('b', 6848),\n",
       "             ('c', 10385),\n",
       "             ('d', 6436),\n",
       "             ('e', 4364),\n",
       "             ('f', 4937),\n",
       "             ('g', 3950),\n",
       "             ('h', 4080),\n",
       "             ('i', 4013),\n",
       "             ('j', 1106),\n",
       "             ('k', 1312),\n",
       "             ('l', 3710),\n",
       "             ('m', 6270),\n",
       "             ('n', 2208),\n",
       "             ('o', 3978),\n",
       "             ('p', 8693),\n",
       "             ('q', 568),\n",
       "             ('r', 7141),\n",
       "             ('s', 12591),\n",
       "             ('t', 5951),\n",
       "             ('u', 2934),\n",
       "             ('v', 1932),\n",
       "             ('w', 2927),\n",
       "             ('x', 82),\n",
       "             ('y', 438),\n",
       "             ('z', 398)])"
      ]
     },
     "execution_count": 19,
     "metadata": {},
     "output_type": "execute_result"
    }
   ],
   "source": [
    "dict_alphabet_count"
   ]
  },
  {
   "cell_type": "code",
   "execution_count": 22,
   "metadata": {
    "collapsed": false
   },
   "outputs": [
    {
     "data": {
      "image/png": "[encoded data removed]",
      "text/plain": [
       "<matplotlib.figure.Figure at 0x514dc88>"
      ]
     },
     "metadata": {},
     "output_type": "display_data"
    }
   ],
   "source": [
    "def dict_alphabet_simple_bar_chart(dct):\n",
    "\n",
    "    # bars are by default width 0.8, so we'll add 0.1 to the left coordinates\n",
    "    # so that each bar is centered\n",
    "    xs = [i + 0.1 for i, _ in enumerate(dct.keys())]\n",
    "\n",
    "    # plot bars with left x-coordinates [xs], heights [num_oscars]\n",
    "    plt.bar(xs, dct.values())\n",
    "    \n",
    "    plt.axis([-1, 27, 0, 13000])     \n",
    "    \n",
    "    plt.ylabel(\"Alphabet\")\n",
    "    plt.ylabel(\"Numbers\")\n",
    "    plt.title(\"Words count in alphabet\")\n",
    "\n",
    "    # label x-axis with alphabet\n",
    "    plt.xticks([i + 0.5 for i, _ in enumerate(dct.keys())], dct.keys())\n",
    "\n",
    "    plt.show()\n",
    "    \n",
    "dict_alphabet_simple_bar_chart(dict_alphabet_count)"
   ]
  },
  {
   "cell_type": "code",
   "execution_count": null,
   "metadata": {
    "collapsed": true
   },
   "outputs": [],
   "source": []
  }
 ],
 "metadata": {
  "kernelspec": {
   "display_name": "Python [py34]",
   "language": "python",
   "name": "Python [py34]"
  },
  "language_info": {
   "codemirror_mode": {
    "name": "ipython",
    "version": 3
   },
   "file_extension": ".py",
   "mimetype": "text/x-python",
   "name": "python",
   "nbconvert_exporter": "python",
   "pygments_lexer": "ipython3",
   "version": "3.4.5"
  }
 },
 "nbformat": 4,
 "nbformat_minor": 0
}
