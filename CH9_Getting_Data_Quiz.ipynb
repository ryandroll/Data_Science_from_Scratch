{
 "cells": [
  {
   "cell_type": "markdown",
   "metadata": {},
   "source": [
    "計算所有大寫開頭的單字推測主角"
   ]
  },
  {
   "cell_type": "code",
   "execution_count": 71,
   "metadata": {
    "code_folding": [],
    "collapsed": false
   },
   "outputs": [
    {
     "name": "stdout",
     "output_type": "stream",
     "text": [
      "Counter({'Mr.': 766, 'Elizabeth': 398, 'Mrs.': 338, 'She': 305, '\"I': 296, 'The': 270, 'Miss': 270, 'But': 238, 'Darcy': 215, 'He': 210, 'It': 200, 'Bennet': 168, 'Jane': 155, 'Bingley': 149, 'Elizabeth,': 136, 'Lady': 130, 'You': 126, 'They': 114, 'Collins': 100, 'Darcy,': 96, 'Bennet,': 89, 'Wickham': 87, 'And': 85, 'Her': 83, '\"You': 82, 'Catherine': 81, 'Lydia': 79, 'Project': 78, 'In': 76, 'His': 73, 'Jane,': 71, 'If': 70, 'When': 67, 'My': 67, '\"And': 62, 'Colonel': 62, 'Chapter': 61, 'Bingley,': 55, 'As': 52, 'This': 49, '\"But': 49, 'There': 48, '\"It': 48, 'Gardiner': 47, 'Charlotte': 47, 'Longbourn': 46, 'To': 46, 'Sir': 46, 'What': 45, 'We': 45, 'Netherfield': 43, '\"Oh!': 42, '\"My': 41, 'At': 41, 'Collins,': 40, 'How': 40, 'Lucas': 39, 'Lizzy,': 38, 'Kitty': 37, 'Wickham,': 37, 'After': 36, '\"Yes,': 32, 'On': 32, 'Their': 32, 'William': 31, 'Pemberley': 29, '\"If': 29, 'Elizabeth.': 28, '\"What': 28, 'Lydia,': 27, 'Gardiner,': 27, 'With': 27, 'Your': 27, 'Do': 26, 'Hurst': 26, '\"How': 26, 'Forster': 25, 'Meryton': 24, 'Mary': 24, 'But,': 24, 'That': 24, 'Had': 24, 'Longbourn,': 22, '\"He': 22, 'London': 22, 'Rosings': 21, 'Gutenberg': 21, '\"That': 21, 'Darcy.': 21, 'Elizabeth;': 21, 'Let': 20, 'Catherine,': 20, '\"This': 20, 'Bingley.': 19, 'Kitty,': 19, '\"She': 18, '\"Oh,': 18, '\"Your': 17, 'Well,': 17, 'From': 17, 'Not': 17, 'Meryton,': 16, 'Phillips': 16, 'No': 16, 'Lucas,': 16, 'Rosings,': 16, 'Such': 15, 'Fitzwilliam': 15, '\"Mr.': 15, 'Jane.': 15, 'Bourgh': 15, '\"No,': 15, 'Bingley;': 15, 'For': 15, 'Wickham.': 15, 'Hertfordshire,': 15, 'London,': 15, '\"Well,': 14, 'Charlotte,': 14, 'Netherfield,': 14, '\"The': 14, '\"We': 14, 'Every': 14, 'Hertfordshire': 14, 'Foundation': 14, '\"Do': 14, '\"There': 14, 'Oh!': 14, 'Literary': 13, 'Archive': 13, 'One': 13, 'Lizzy': 13, 'All': 13, 'Pemberley,': 12, 'Long': 12, 'By': 12, '\"Is': 12, '\"A': 12, 'Though': 12, 'Maria': 12, 'Eliza,': 12, '\"When': 12, 'While': 12, 'Is': 12, 'Bennet.': 12, 'Fitzwilliam,': 11, 'Mary,': 11, 'Why': 11, 'Longbourn.': 11, 'Netherfield.': 11, 'Hunsford': 11, '\"Miss': 11, '\"Not': 11, 'Lydia.': 11, 'Wickham;': 11, '\"They': 10, 'Bourgh,': 10, 'Nothing': 10, 'United': 10, 'Jane;': 10, 'Perhaps': 10, '\"In': 10, 'Denny': 10, 'Bennets': 9, '\"Good': 9, 'Georgiana': 9, 'Derbyshire,': 9, 'Are': 9, 'Bingley,\"': 9, 'So': 9, 'Phillips,': 9, 'Have': 8, '\"Very': 8, 'Kent': 8, 'License': 8, 'Oh,': 8, 'Caroline': 8, 'Could': 8, 'Of': 8, 'These': 8, '\"Perhaps': 8, '\"Yes;': 8, 'Bennet,\"': 8, 'London.': 8, 'Rosings.': 8, 'Here': 8, 'Saturday': 7, 'St.': 7, '\"Upon': 7, '\"_You_': 7, 'Brighton': 7, 'Brighton.': 7, 'George': 7, '\"Indeed,': 7, 'Poor': 7, 'Darcy!': 7, 'Who': 7, 'William,': 7, '\"To': 7, 'Reynolds': 7, 'Forster,': 7, 'Yes,': 7, 'Gracechurch': 7, '\"Can': 7, 'Darcy;': 7, '\"Did': 7, 'Yet': 7, '\"Are': 7, 'Darcy?\"': 7, 'Section': 7, 'Derbyshire': 7, 'Tuesday,': 6, 'Did': 6, 'Lizzy.': 6, 'Lucases,': 6, '\"His': 6, '\"With': 6, 'Will': 6, 'Meryton.': 6, 'Now': 6, 'Its': 6, 'Longbourn;': 6, 'I,': 6, 'Then': 6, 'Lizzy!': 6, 'Lizzy,\"': 6, 'And,': 6, 'Jenkinson': 6, 'Lucas.': 6, 'Brighton,': 6, 'Our': 6, 'Darcy,\"': 6, 'Till': 6, '\"Let': 6, 'Parsonage,': 6, 'No,': 6, 'Very': 6, 'Lord!': 6, 'Nor': 6, '\"Lizzy,': 6, 'Pemberley.': 6, 'Bennet;': 6, 'Kitty.': 5, 'Lizzy?\"': 5, 'Having': 5, '\"Lady': 5, '\"Project': 5, 'General': 5, 'Upon': 5, 'Hertfordshire.': 5, 'Those': 5, 'Pray': 5, 'Gardiner.': 5, 'Wickham!': 5, 'Bourgh.': 5, 'Lucases': 5, '\"From': 5, '\"Mrs.': 5, 'Lambton,': 5, 'Monday': 5, 'However,': 5, 'Saturday,': 5, 'Heaven!': 5, '\"Why,': 5, 'Darcy.\"': 5, 'Hunsford,': 5, 'An': 5, '\"As': 5, '\"Of': 5, 'About': 5, 'Many': 5, 'Hurst,': 5, 'Only': 5, '\"Indeed': 5, '_I_': 4, 'Since': 4, '\"Why': 4, 'Some': 4, 'Fitzwilliam.': 4, 'Gutenberg\"': 4, '\"Aye,': 4, '\"No': 4, 'Everybody': 4, '\"Dear': 4, 'Lizzy.\"': 4, 'Hertfordshire;': 4, 'Lodge,': 4, 'Pride': 4, 'Street,': 4, 'States.': 4, 'Foundation,': 4, '_You_': 4, 'Catherine.': 4, 'Two': 4, 'States': 4, 'Jane,\"': 4, 'Without': 4, 'Neither': 4, 'Austen': 4, '\"No,\"': 4, 'Meryton;': 4, '\"Lizzy,\"': 4, 'Captain': 4, 'Were': 4, 'Park': 4, 'Can': 4, 'Wednesday': 4, 'Where': 4, 'Has': 4, 'Information': 4, 'Maria,': 4, 'Collins;': 4, '\"For': 4, '\"May': 4, 'Sunday,': 4, 'Christmas': 4, 'Does': 4, 'Sunday': 4, 'Derbyshire.': 4, '\"But,': 4, 'Eliza': 4, 'Collinses': 4, 'Parsonage': 4, 'Four': 4, 'Gardiners': 4, '\"Oh!\"': 4, '_That_': 4, '\"Pray': 4, 'Volunteers': 3, 'Bennet?\"': 3, 'Lydia;': 3, 'Hunsford.': 3, 'House.': 3, 'Lewis': 3, 'London;': 3, 'Georgiana,': 3, 'June,': 3, 'Kent,': 3, 'Darcy!\"': 3, 'Parsonage.': 3, 'King': 3, '\"On': 3, 'Before': 3, 'U.S.': 3, 'Reynolds,': 3, '\"At': 3, 'House,': 3, '\"What,': 3, 'Kitty;': 3, 'Elizabeth:': 3, '\"Shall': 3, 'Charles,': 3, 'Thank': 3, '\"Whatever': 3, 'Tell': 3, 'Thursday': 3, 'Elizabeth,\"': 3, 'Pemberley.\"': 3, '\"Nothing': 3, '\"_That_': 3, 'Catherine;': 3, 'Jones': 3, 'Charlotte.': 3, '\"An': 3, 'Scotland.\"': 3, 'Never': 3, 'Carter': 3, '1.E.1': 3, 'Collins.': 3, 'Much': 3, 'November,': 3, '\"Have': 3, 'If,': 3, 'Louisa': 3, 'Whatever': 3, 'Park,': 3, 'Young': 3, 'Longbourn.\"': 3, '\"No;': 3, '\"Well,\"': 3, '\"Yes,\"': 3, 'Saturday.': 3, 'Lydia!\"': 3, '1.E.9.': 3, 'Good': 3, 'Hill': 3, 'People': 3, '1.F.3,': 3, 'Five': 3, 'Heaven': 3, 'Collins,\"': 3, 'Allow': 3, 'Web': 3, 'Bingleys': 3, 'Most': 3, 'Be': 3, 'F.': 3, 'Monday,': 3, 'Between': 3, '\"By': 3, 'Lakes,': 3, 'Jane!': 3, '\"Thank': 3, 'Gardiners,': 2, '\"Her': 2, 'Meryton.\"': 2, 'Scotland': 2, 'Unless': 2, 'Grosvenor': 2, 'For,': 2, 'Green,': 2, 'Soon': 2, '\"Oh': 2, 'Meryton?': 2, 'Use': 2, 'Wednesday.': 2, '\"Come,': 2, '\"Then': 2, 'Except': 2, 'S.': 2, 'Last': 2, 'Oh': 2, 'See': 2, 'North,': 2, '\"Who': 2, '_My_': 2, 'Long.': 2, 'Pemberley;': 2, 'Instead': 2, 'Produced': 2, 'Gouldings': 2, 'Little': 2, 'North.': 2, '\"Kitty': 2, '\"Yours,': 2, 'Collins.\"': 2, '\"Would': 2, '\"Tell': 2, 'Tuesday.': 2, 'Pray,': 2, 'Indeed': 2, 'Dear': 2, 'Collins!': 2, '\"Only': 2, 'Indeed,': 2, '\"Indeed!\"': 2, 'Donations': 2, '\"Now': 2, '\"Though': 2, 'W.': 2, 'Hill,': 2, 'Seriously,': 2, '\"Certainly,': 2, 'Rosings;': 2, 'May,': 2, 'Lydia,\"': 2, 'Clapham.': 2, 'Charles': 2, '\"\\'Tis': 2, '\"True.': 2, 'Derbyshire;': 2, '\"Could': 2, 'Jane!\"': 2, 'Younge': 2, 'Both': 2, 'Anne': 2, 'Pardon': 2, '\"Certainly,\"': 2, 'Newcastle,': 2, 'Nobody': 2, 'Happy': 2, 'Haggerston': 2, 'However': 2, '\"Pray,': 2, 'Wednesday,': 2, 'Annesley': 2, 'Yours,': 2, 'Scarcely': 2, '\"Nay,\"': 2, 'London,\"': 2, 'Lord': 2, 'Vanilla': 2, '\"Gracechurch': 2, '1.E.8.': 2, 'Eliza.\"': 2, '\"Believe': 2, 'I,\"': 2, '\"All': 2, 'States,': 2, 'Barnet': 2, 'Bingley?\"': 2, 'Tease': 2, '\"Now,': 2, '\"Certainly': 2, 'Other': 2, 'F.,': 2, 'Derbyshire.\"': 2, '\"Will': 2, 'February': 2, 'Nay,': 2, 'License.': 2, 'Was': 2, 'Bourgh,\"': 2, 'Forgive': 2, 'During': 2, '\"So': 2, '\"So,': 2, 'Besides,': 2, 'Anonymous': 2, 'Again': 2, 'Jenkinson,': 2, 'Bingley!': 2, 'Hunsford.\"': 2, 'Even': 2, 'Consider': 2, 'B.': 2, '\"About': 2, 'Come': 2, 'Michael': 2, 'Denny,': 2, 'Why,': 2, 'Street': 2, 'Scotch': 2, 'Clapham,': 2, '\"Take': 2, '1.E.1.': 2, 'England;': 2, '\"No--I': 2, 'London?\"': 2, '\"La!': 2, 'Here,': 2, '\"Wickham': 2, 'Everything': 2, 'Street;': 2, 'Date:': 2, 'Sometimes': 2, 'Never,': 2, '\"Because': 2, 'King.': 2, '\"Then,': 2, 'Come,': 2, '\"Come': 2, '1.E.7': 2, 'Nicholls': 2, 'Any': 2, '\"While': 2, 'Give': 2, 'Forster.': 2, 'God!': 2, 'Gretna': 2, 'Yet,': 2, 'More': 2, 'Tuesday;': 2, '1.E.8': 2, 'Then,': 2, '\"Ah!': 2, 'Allowing': 2, '\"Yet': 2, 'Caroline,': 2, '\"Some': 2, 'Another': 2, 'Make': 2, 'Younge,': 2, 'Ten': 2, '\"These': 2, '_He_': 2, 'Dr.': 2, '\"Plain': 2, 'Within': 2, 'Tuesday': 2, 'Terms': 2, '\"Has': 2, 'Anne,': 2, 'Prejudice,': 2, 'Lizzy;': 2, 'August': 2, 'Kent?\"': 2, 'Royalty': 2, 'Pratt,': 1, 'Lake': 1, 'Say': 1, 'Forster,\"': 1, 'Gardiner?': 1, 'Dawson': 1, '\"Removed!\"': 1, 'Refund\"': 1, 'War': 1, 'June.': 1, \"'This\": 1, 'Birmingham,': 1, '_They_': 1, '\"Wickham,': 1, 'England': 1, 'Lambton?': 1, 'Once': 1, \"Lucases'\": 1, 'Fixed': 1, 'Archbishop,': 1, 'Internal': 1, 'Epsom.': 1, 'Liverpool:': 1, '\"Perhaps,\"': 1, 'Bingley.\"': 1, '\"Yours': 1, 'Human': 1, 'Phillips.': 1, 'Kitty?\"': 1, 'Easter': 1, 'Balls': 1, 'Lodge': 1, 'Monday:': 1, '\"Care': 1, 'Excuse': 1, 'Sections': 1, 'Affectation': 1, 'Foundation.': 1, 'Regard': 1, 'Everything,': 1, '1.E': 1, '1.F.5.': 1, 'Epsom,': 1, 'May': 1, 'Painful': 1, '1.F.1.': 1, 'Something,': 1, '\"Much': 1, 'Anxious': 1, 'Domain': 1, '\"Go': 1, '\"Sure': 1, 'Now,': 1, 'Lodge.': 1, 'Absence': 1, '\"Their': 1, 'Gutenberg\"),': 1, 'Younger': 1, 'Replacement': 1, 'Full': 1, '\"Haye': 1, 'Louisa.': 1, '\"Sir': 1, 'Robinson.\"': 1, '\"True,\"': 1, '\"E.': 1, '1.F.3.': 1, 'Please': 1, '1.C': 1, '\"Hunsford,': 1, 'Thus': 1, 'Amazed': 1, 'Revenue': 1, 'Thoughtlessness,': 1, '\"Most': 1, '\"Say': 1, 'Matlock,': 1, '\"Engaged': 1, 'Darcy_,': 1, 'Charles.\"': 1, 'P.': 1, 'Charlotte;': 1, '1.B.': 1, 'Vanity': 1, 'Impossible!': 1, 'Caroline.': 1, '\"Be': 1, 'Mary,\"': 1, 'March,\"': 1, 'House': 1, 'Great': 1, 'Bennet?': 1, 'Executive': 1, 'Goulding': 1, 'Assistance': 1, 'Bourgh?': 1, '\"Nay,': 1, 'Rosings.\"': 1, 'Newcastle': 1, 'Or,': 1, '1.F.6.': 1, 'Thoughtless': 1, '\"Louisa,': 1, '\"Speak': 1, 'Bennet!\"': 1, 'Netherfield.\"': 1, 'Vain': 1, 'Special': 1, 'Chatsworth,': 1, '\"Design!': 1, 'Christian': 1, \"'Having\": 1, 'Eliza!': 1, 'Thus,': 1, 'Anything': 1, 'Hill?': 1, 'Consoled': 1, 'Sunday;': 1, 'April,': 1, \"'Lydia\": 1, 'Respect,': 1, 'Dovedale,': 1, 'Daughters': 1, '1.E.': 1, '\"Which': 1, 'Chief': 1, '\"Lord,': 1, 'Convinced': 1, 'Lane,': 1, 'Well!': 1, 'Sept.': 1, 'Saturday?\"': 1, 'Meryton,\"': 1, 'Mission': 1, '\"Next': 1, 'Bingleys.': 1, '\"Blame': 1, 'Foundation\"': 1, '_Too': 1, 'Warwick,': 1, '\"Heaven': 1, \"'Oh!\": 1, 'October.': 1, 'Salt': 1, '\"Far': 1, '\"Hate': 1, 'Mount,': 1, 'English': 1, \"'Bingley,\": 1, 'Words': 1, '\"Where': 1, 'British': 1, 'Bakewell,': 1, 'Thursday.': 1, 'Michaelmas,': 1, 'French': 1, 'He,': 1, 'Mount': 1, 'Forster?': 1, 'Dear,': 1, 'Forster;': 1, '\"Something': 1, 'Dale': 1, 'Peak.': 1, 'Importance': 1, 'Console': 1, 'Recovering': 1, '\"Implacable': 1, 'Hunsford;': 1, '\"Lizzy': 1, 'Kenilworth,': 1, 'London.\"': 1, 'Oxford,': 1, '\"Exceedingly': 1, \"'Lately,\": 1, '\"Laugh': 1, '\"Go,': 1, 'Elizabeth!': 1, 'Maria;': 1, 'Hope': 1, '\"Nonsense,': 1, \"'Keep\": 1, 'Adieu': 1, '1.F.': 1, '\"Not,': 1, '1.E.3.': 1, 'Mary?': 1, 'End': 1, 'Lucas;': 1, 'Forster?\"': 1, 'Darcy?': 1, '1.E.5.': 1, '\"Elizabeth': 1, \"'Lady\": 1, 'Italian': 1, '\"Another': 1, 'Stop': 1, 'Things': 1, '1.E.4.': 1, 'Breakfast': 1, 'Times': 1, 'Release': 1, 'November;': 1, 'Fitzwilliam?': 1, 'Lucas)': 1, '\"Hunsford,\"': 1, 'Believe': 1, 'Updated': 1, 'Brighton;': 1, 'When,': 1, 'Persuaded': 1, 'God': 1, 'Morris': 1, 'Wholly': 1, 'Professor': 1, 'Robinson;': 1, 'Phillipses': 1, '\"Never,': 1, 'Lakes': 1, '\"Yes': 1, '\"Very,': 1, 'Lucas,\"': 1, 'Stay,': 1, 'Hursts': 1, '\"Except,\"': 1, 'Eliza?': 1, 'Creating': 1, 'Each': 1, 'Long,\"': 1, 'Wednesday;': 1, 'Howsoever': 1, '\"Ah!\"': 1, 'Far': 1, '\"Defects,\"': 1, 'Lambton;': 1, 'Whilst': 1, '\"Poor': 1, 'Whether': 1, 'Hart,': 1, 'Follies': 1, 'Lucases;': 1, 'Against': 1, '\"Mary': 1, '\"Right': 1, 'Spanish': 1, \"'I\": 1, 'Ramsgate;': 1, '\"Mamma,\"': 1, '\"All!': 1, 'Kent.': 1, 'Easter,': 1, 'Single,': 1, '\"Ten': 1, 'Bennet!': 1, 'John': 1, 'Letters': 1, 'Fatigued': 1, 'There--I': 1, 'March': 1, '\"None': 1, 'Astonishment,': 1, 'Lakes.\"': 1, 'What,': 1, 'Cheapside,\"': 1, 'Certain': 1, 'Conceal': 1, 'Choose': 1, 'Sarah,': 1, '\"Perfectly': 1, '_His_': 1, 'Think': 1, 'Defect': 1, 'Sally': 1, 'Netherfield;': 1, '\"\\'My': 1, 'Mississippi': 1, 'Brighton!': 1, 'Presuming': 1, 'Occupied': 1, 'York,': 1, 'Netherfield?\"': 1, 'Kympton?\"': 1, '\"Nearly': 1, '\"I,': 1, 'But,\"': 1, 'Resignation': 1, \"Bennet,'\": 1, 'Elizabeth.\"': 1, 'Bennet.\"': 1, 'Author:': 1, '\"Now,\"': 1, 'Ignorant': 1, 'Put': 1, 'Heaven,': 1, 'Girls,': 1, '\"Money!': 1, 'Christmas.\"': 1, '\"Were': 1, 'Anxiety': 1, 'Hill.': 1, 'Stone.': 1, 'Esq.': 1, 'Lord,': 1, '1.E.7.': 1, 'Hatfield,': 1, \"'Ah!\": 1, 'Jane?': 1, '\"But,\"': 1, 'Society': 1, '1.E.6.': 1, 'Charlotte!': 1, 'Ring': 1, 'Change': 1, '\"Such': 1, 'Interested': 1, '1.F.4.': 1, 'England,': 1, 'Wretched,': 1, 'Bell,': 1, \"Wickham.'\": 1, 'Would': 1, '\"Caroline': 1, 'Unfortunately': 1, '\"Was': 1, '\"_My_': 1, \"'_She_\": 1, 'Conjectures': 1, '\"Information': 1, 'Pulvis': 1, 'Pen': 1, 'Ever': 1, 'Bennet:': 1, 'Wickham\"': 1, 'Blenheim,': 1, '\"Pardon': 1, 'Chamberlayne': 1, 'Phillipses,': 1, 'Into': 1, '\"Write': 1, 'Despite': 1, \"'Mr.\": 1, '\"Both,\"': 1, 'Society,': 1, 'Madam,': 1, 'Unfeeling,': 1, '\"\\'After': 1, 'Lodge;': 1, 'Militia': 1, '1.D.': 1, 'Public': 1, '\"Probably': 1, 'Supposing': 1, 'Philips.': 1, 'Stupid': 1, 'Almost': 1, 'F3.': 1, '\"Excuse': 1, 'Cheapside.\"': 1, 'Honourable': 1, 'Adieu!': 1, 'Meryton?\"': 1, 'Catherine),': 1, 'Caroline,\"': 1, 'Lucas.\"': 1, '\"Does': 1, 'Redistribution': 1, 'Unwilling': 1, '\"Nor': 1, 'Carter,': 1, '\"Undoubtedly.': 1, 'Additional': 1, '\"Just': 1, 'Service.': 1, 'Bennets,': 1, 'November': 1, 'Street.\"': 1, '_Boulanger_--\"': 1, 'This,': 1, 'Reflection': 1, 'Rendered': 1, 'Lydia!': 1, 'Risk': 1, \"'Yes,'\": 1, 'Twice': 1, '\"If!': 1, 'Collinses,': 1, '\"Unhappy': 1, 'Brighton?\"': 1, '1.F.2.': 1, '\"_Mr.': 1, 'Christian,': 1, '\"John': 1, 'Lydia.\"': 1, '1.A.': 1, '\"Bingley.\"': 1, 'Pursuing': 1, 'Dearest': 1, '\"Ah,': 1, 'House!': 1, 'Away': 1, '\"Sir,': 1, 'England.': 1, \"Bingleys'\": 1, 'Saturday.\"': 1, 'Madam.': 1, 'Lambton?\"': 1, '\"Unless': 1, 'Prejudice': 1, '\"Merely': 1, '\"La!\"': 1, 'Family': 1, 'Hear': 1, 'Compliments': 1, 'Attendance,': 1, '\"True;': 1, 'No;': 1, 'Imprudence': 1, '\"Complied': 1, 'January': 1, 'Mamma,': 1, 'Director': 1, 'Harriet': 1, 'Ramsgate.\"': 1, \"Bennet.'--My\": 1, 'Promise': 1, 'Elizabeth--': 1, 'Kitty,\"': 1, 'Darcy:': 1, '\"Then,\"': 1, 'Christmas.': 1, 'Towards': 1, 'Theatre': 1, 'Scotland.': 1, 'Britain': 1, 'Teasing,': 1, '\"Well': 1, '\"Dearest': 1, 'Brighton!\"': 1, '\"Already': 1, 'Stoke,': 1, 'Amongst': 1, 'Imagine': 1, 'Contact': 1, '1.C.': 1, 'Epsom': 1, 'Melan': 1, '\"Neglect!': 1, 'London!': 1, 'Take': 1, 'Steady': 1, 'Oakham': 1, 'Contributions': 1, 'Next': 1, '\"Sometimes.': 1, 'Accordingly,': 1, 'Jane:': 1, 'Bingley:': 1, 'Newby': 1, '\"You,': 1, '_Her_': 1, 'Eliza,\"': 1, '\"Our': 1, 'Sermons.': 1, '\"Yes.': 1, 'Through': 1, 'Accept': 1, '\"Elizabeth,': 1, 'Language:': 1, 'Nonsense,': 1, 'Lambton': 1, 'Gregory': 1, 'Louisa,\"': 1, '\"Charles': 1, 'Smiles': 1, '\"Really,': 1, 'Parsonage;': 1, 'Rosings?\"': 1, 'Remember': 1, '\"Undoubtedly;\"': 1, 'Among': 1, 'Mamma': 1, 'Netherfield?': 1, 'January.': 1, 'North': 1, 'Madam,\"': 1, 'Forsters': 1, '1.E.2.': 1, 'Harringtons': 1, 'Dove': 1, 'Newcastle.': 1, 'Others': 1, 'Generous,': 1, '\"Had': 1, 'July,': 1, 'Eager': 1, '\"Insolent': 1, 'Copyright': 1, 'Widely': 1, 'So,': 1, 'Richard;': 1, 'Netherfield,\"': 1, 'Imprudent': 1, 'Maria.': 1, 'Putting': 1, 'Compliance': 1, 'Foundation.\"': 1, 'Annesley,': 1, 'Posting': 1, '\"Impossible,': 1, 'William:': 1, 'Meryton!\"': 1, 'Right': 1, '\"Or,': 1, 'Email': 1, '(Lady': 1, 'City,': 1, '\"If,': 1, 'Westerham,': 1, 'I.\"': 1, '\"Certainly.': 1, 'Arguments': 1, 'Friday,': 1, 'Scotland:': 1, 'King,': 1, '\"Indeed,\"': 1, 'Redistributing': 1, 'There,': 1, 'Send': 1, 'Woods': 1, 'Hertfordshire.\"': 1, 'Lydia?\"': 1, 'Day': 1, 'Church': 1, 'Title:': 1, '\"Since': 1, '_She_': 1, '\"Obstinate,': 1, 'George,': 1, 'Ramsgate': 1, 'Hill!': 1, \"Catherine,'\": 1, '\"Compared': 1, 'Bourgh.\"': 1, '\"Undoubtedly,\"': 1, 'Hart': 1, 'International': 1, '\"Jane,': 1, 'Lucases.': 1, 'Bingley)': 1, 'Must': 1, 'Wherever': 1, '\"Neither': 1, 'Shall': 1, 'Surprise': 1, '\"Two': 1, '\"Dining': 1, 'Pope': 1, 'Collins!\"': 1, '\"Lydia': 1, 'Charlotte,\"': 1, 'Vain,': 1, 'First': 1, 'Nothing,': 1, 'Women': 1, '\"One': 1, '\"Read': 1, 'Ashworth': 1, 'Three': 1, 'Courier,': 1, '\"M.': 1, 'Happiness': 1, 'Gardiner;': 1, \"'Tis\": 1, 'Wickham?\"': 1, 'Pleased': 1, 'Lizzy!\"': 1, 'Webbs': 1, 'Whenever': 1, 'South.': 1, 'Wilfully': 1, 'Nearly': 1, 'Militia,': 1, '\"This,': 1, 'Bath;': 1, 'Commerce;': 1, 'First,': 1, 'Eastbourne': 1, 'Gutenberg:': 1, 'Hurst?\"': 1, '\"_Her_': 1, 'Pemberley?\"': 1, '\"Remember,': 1, 'Under': 1, '\"Beyond': 1, 'Lakes.': 1, '\"Depend': 1, 'Observing': 1, '\"Exceed': 1, 'Scarborough,': 1, 'Office,': 1, '\"Colonel': 1, 'Pratt': 1, 'Intimate': 1, 'Proud': 1, 'Michaelmas;': 1, 'Scotland,': 1, 'Fairbanks,': 1, 'September,': 1, 'Bromley,': 1, 'Irish': 1, 'Lambton!': 1, 'Calling': 1, 'King?': 1, 'West,': 1, '\"Pride,\"': 1, 'Sir,--': 1, 'Find': 1, 'Matlock': 1, 'Kitty!': 1, '\"Every': 1, '\"Surely': 1})\n"
     ]
    }
   ],
   "source": [
    "from collections import Counter\n",
    "import re, string\n",
    "printable = string.printable\n",
    "\n",
    "with open('data\\words.txt','r') as f:\n",
    "    word_list = [word for line in f \n",
    "                     for word in line.split()]\n",
    "\n",
    "with open('data\\pride.txt','r') as f:\n",
    "    \"\"\"\n",
    "    title_counter = Counter(word\n",
    "                        for line in f\n",
    "                        for word in re.sub('[^A-Za-z0-9]+',' ', line).split()\n",
    "                        if word.istitle()\n",
    "                            if word.lower() not in list(printable))  \n",
    "    \"\"\"\n",
    "\n",
    "    tle_counter = Counter(word\n",
    "                            for line in f\n",
    "                            for word in line.split()\n",
    "                            if word.istitle()\n",
    "                            if word.lower() not in list(printable))    \n",
    "\n",
    "print(tle_counter)"
   ]
  },
  {
   "cell_type": "code",
   "execution_count": 41,
   "metadata": {
    "collapsed": false
   },
   "outputs": [
    {
     "data": {
      "text/plain": [
       "False"
      ]
     },
     "execution_count": 41,
     "metadata": {},
     "output_type": "execute_result"
    }
   ],
   "source": [
    "\"eqewr\".istitle()"
   ]
  },
  {
   "cell_type": "code",
   "execution_count": 18,
   "metadata": {
    "collapsed": false
   },
   "outputs": [
    {
     "data": {
      "text/plain": [
       "'hello, word'"
      ]
     },
     "execution_count": 18,
     "metadata": {},
     "output_type": "execute_result"
    }
   ],
   "source": [
    "\"Hello, word\".lower()"
   ]
  },
  {
   "cell_type": "code",
   "execution_count": 29,
   "metadata": {
    "collapsed": false
   },
   "outputs": [
    {
     "data": {
      "text/plain": [
       "<map at 0x53665f8>"
      ]
     },
     "execution_count": 29,
     "metadata": {},
     "output_type": "execute_result"
    }
   ],
   "source": [
    "map(str.lower,[\"A\",\"B\",\"C\"])"
   ]
  },
  {
   "cell_type": "code",
   "execution_count": 57,
   "metadata": {
    "collapsed": false
   },
   "outputs": [
    {
     "data": {
      "text/plain": [
       "'Helloline'"
      ]
     },
     "execution_count": 57,
     "metadata": {},
     "output_type": "execute_result"
    }
   ],
   "source": [
    "re.sub('[^A-Za-z0-9]+','', \"!##Hello line\")"
   ]
  },
  {
   "cell_type": "code",
   "execution_count": null,
   "metadata": {
    "collapsed": true
   },
   "outputs": [],
   "source": []
  }
 ],
 "metadata": {
  "anaconda-cloud": {},
  "kernelspec": {
   "display_name": "Python [py34]",
   "language": "python",
   "name": "Python [py34]"
  },
  "language_info": {
   "codemirror_mode": {
    "name": "ipython",
    "version": 3
   },
   "file_extension": ".py",
   "mimetype": "text/x-python",
   "name": "python",
   "nbconvert_exporter": "python",
   "pygments_lexer": "ipython3",
   "version": "3.4.5"
  }
 },
 "nbformat": 4,
 "nbformat_minor": 0
}
