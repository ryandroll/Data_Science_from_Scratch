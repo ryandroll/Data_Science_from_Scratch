{
 "cells": [
  {
   "cell_type": "markdown",
   "metadata": {},
   "source": [
    "計算所有大寫開頭的單字推測主角"
   ]
  },
  {
   "cell_type": "code",
   "execution_count": 2,
   "metadata": {
    "code_folding": [],
    "collapsed": false
   },
   "outputs": [
    {
     "name": "stdout",
     "output_type": "stream",
     "text": [
      "Counter({'Mr.': 766, 'Elizabeth': 398, 'Mrs.': 338, 'She': 305, '\"I': 296, 'The': 270, 'Miss': 270, 'But': 238, 'Darcy': 215, 'He': 210, 'It': 200, 'Bennet': 168, 'Jane': 155, 'Bingley': 149, 'Elizabeth,': 136, 'Lady': 130, 'You': 126, 'They': 114, 'Collins': 100, 'Darcy,': 96, 'Bennet,': 89, 'Wickham': 87, 'And': 85, 'Her': 83, '\"You': 82, 'Catherine': 81, 'Lydia': 79, 'Project': 78, 'In': 76, 'His': 73, 'Jane,': 71, 'If': 70, 'My': 67, 'When': 67, '\"And': 62, 'Colonel': 62, 'Chapter': 61, 'Bingley,': 55, 'As': 52, 'This': 49, '\"But': 49, '\"It': 48, 'There': 48, 'Gardiner': 47, 'Charlotte': 47, 'Sir': 46, 'To': 46, 'Longbourn': 46, 'What': 45, 'We': 45, 'Netherfield': 43, '\"Oh!': 42, '\"My': 41, 'At': 41, 'How': 40, 'Collins,': 40, 'Lucas': 39, 'Lizzy,': 38, 'Kitty': 37, 'Wickham,': 37, 'After': 36, '\"Yes,': 32, 'Their': 32, 'On': 32, 'William': 31, 'Pemberley': 29, '\"If': 29, 'Elizabeth.': 28, '\"What': 28, 'With': 27, 'Gardiner,': 27, 'Your': 27, 'Lydia,': 27, 'Hurst': 26, 'Do': 26, '\"How': 26, 'Forster': 25, 'Meryton': 24, 'That': 24, 'Had': 24, 'Mary': 24, 'But,': 24, '\"He': 22, 'London': 22, 'Longbourn,': 22, 'Elizabeth;': 21, 'Darcy.': 21, '\"That': 21, 'Rosings': 21, 'Gutenberg': 21, '\"This': 20, 'Catherine,': 20, 'Let': 20, 'Kitty,': 19, 'Bingley.': 19, '\"Oh,': 18, '\"She': 18, 'Not': 17, '\"Your': 17, 'From': 17, 'Well,': 17, 'Rosings,': 16, 'Phillips': 16, 'No': 16, 'Lucas,': 16, 'Meryton,': 16, 'Jane.': 15, 'Hertfordshire,': 15, 'Wickham.': 15, 'Bingley;': 15, 'London,': 15, '\"No,': 15, 'Bourgh': 15, 'Fitzwilliam': 15, 'Such': 15, '\"Mr.': 15, 'For': 15, 'Hertfordshire': 14, 'Charlotte,': 14, 'Netherfield,': 14, 'Foundation': 14, '\"We': 14, '\"There': 14, 'Oh!': 14, 'Every': 14, '\"Do': 14, '\"Well,': 14, '\"The': 14, 'One': 13, 'Lizzy': 13, 'All': 13, 'Literary': 13, 'Archive': 13, 'Eliza,': 12, 'Though': 12, '\"When': 12, 'Is': 12, '\"Is': 12, 'By': 12, 'Bennet.': 12, 'Long': 12, 'Pemberley,': 12, 'Maria': 12, '\"A': 12, 'While': 12, 'Lydia.': 11, 'Fitzwilliam,': 11, '\"Not': 11, 'Mary,': 11, 'Hunsford': 11, '\"Miss': 11, 'Longbourn.': 11, 'Wickham;': 11, 'Why': 11, 'Netherfield.': 11, 'United': 10, '\"They': 10, 'Denny': 10, 'Bourgh,': 10, '\"In': 10, 'Perhaps': 10, 'Jane;': 10, 'Nothing': 10, 'Derbyshire,': 9, '\"Good': 9, 'So': 9, 'Are': 9, 'Bingley,\"': 9, 'Georgiana': 9, 'Phillips,': 9, 'Bennets': 9, 'Could': 8, '\"Yes;': 8, 'Oh,': 8, 'Rosings.': 8, '\"Very': 8, 'London.': 8, 'Of': 8, 'Here': 8, '\"Perhaps': 8, 'License': 8, 'Kent': 8, 'Have': 8, 'Bennet,\"': 8, 'These': 8, 'Caroline': 8, '\"Indeed,': 7, 'Reynolds': 7, 'Gracechurch': 7, 'Brighton.': 7, 'Who': 7, 'Darcy!': 7, 'Yet': 7, '\"Did': 7, 'Darcy;': 7, 'Yes,': 7, 'Section': 7, 'Derbyshire': 7, 'Forster,': 7, '\"Can': 7, 'St.': 7, 'Darcy?\"': 7, 'George': 7, '\"Upon': 7, 'William,': 7, '\"_You_': 7, 'Brighton': 7, '\"To': 7, 'Poor': 7, '\"Are': 7, 'Saturday': 7, 'Lizzy,\"': 6, 'Lord!': 6, '\"Let': 6, 'Very': 6, 'Lizzy!': 6, 'Lucases,': 6, 'Will': 6, 'Darcy,\"': 6, '\"With': 6, '\"Lizzy,': 6, 'Our': 6, 'Parsonage,': 6, 'Its': 6, 'Jenkinson': 6, 'Lizzy.': 6, 'Tuesday,': 6, 'Pemberley.': 6, 'Now': 6, 'And,': 6, 'Till': 6, '\"His': 6, 'Meryton.': 6, 'Brighton,': 6, 'Bennet;': 6, 'Lucas.': 6, 'Longbourn;': 6, 'Then': 6, 'Nor': 6, 'Did': 6, 'No,': 6, 'I,': 6, 'However,': 5, 'Kitty.': 5, 'Only': 5, 'Saturday,': 5, 'Bourgh.': 5, '\"Indeed': 5, 'Lizzy?\"': 5, 'Lambton,': 5, '\"From': 5, 'Hurst,': 5, '\"As': 5, 'About': 5, 'Lucases': 5, '\"Lady': 5, '\"Mrs.': 5, 'Hunsford,': 5, 'An': 5, 'Monday': 5, 'General': 5, '\"Why,': 5, '\"Project': 5, '\"Of': 5, 'Wickham!': 5, 'Heaven!': 5, 'Many': 5, 'Pray': 5, 'Hertfordshire.': 5, 'Those': 5, 'Having': 5, 'Gardiner.': 5, 'Darcy.\"': 5, 'Upon': 5, 'Where': 4, 'Street,': 4, '\"But,': 4, 'Collinses': 4, 'Four': 4, '\"No': 4, 'Gardiners': 4, 'Wednesday': 4, '_You_': 4, 'States': 4, 'Captain': 4, 'Since': 4, 'Without': 4, 'Sunday,': 4, 'Eliza': 4, 'Were': 4, '\"Pray': 4, 'Some': 4, 'States.': 4, '\"Dear': 4, 'Parsonage': 4, 'Gutenberg\"': 4, 'Neither': 4, 'Information': 4, 'Everybody': 4, '_I_': 4, 'Two': 4, '\"No,\"': 4, 'Christmas': 4, '\"May': 4, 'Austen': 4, 'Sunday': 4, '\"For': 4, 'Pride': 4, '\"Oh!\"': 4, 'Can': 4, 'Fitzwilliam.': 4, 'Has': 4, 'Maria,': 4, 'Collins;': 4, 'Does': 4, 'Park': 4, '\"Lizzy,\"': 4, 'Lizzy.\"': 4, 'Derbyshire.': 4, 'Meryton;': 4, '_That_': 4, '\"Why': 4, 'Lodge,': 4, 'Jane,\"': 4, 'Foundation,': 4, 'Hertfordshire;': 4, 'Catherine.': 4, '\"Aye,': 4, 'Longbourn.\"': 3, 'Pemberley.\"': 3, 'Collins.': 3, '\"Shall': 3, 'Web': 3, '\"Thank': 3, 'Park,': 3, '\"Whatever': 3, 'Thank': 3, 'Volunteers': 3, 'Lydia;': 3, 'Much': 3, 'Elizabeth:': 3, 'Lydia!\"': 3, 'Charles,': 3, 'November,': 3, 'Jane!': 3, 'Saturday.': 3, 'Reynolds,': 3, '\"What,': 3, 'Scotland.\"': 3, 'Hill': 3, 'Before': 3, 'Five': 3, '\"An': 3, 'Tell': 3, 'Good': 3, 'Kitty;': 3, 'Collins,\"': 3, '1.E.1': 3, 'Lakes,': 3, 'Bennet?\"': 3, 'Hunsford.': 3, 'House.': 3, 'June,': 3, 'F.': 3, 'Kent,': 3, 'Young': 3, 'Georgiana,': 3, '1.F.3,': 3, 'Thursday': 3, 'If,': 3, '\"Yes,\"': 3, 'Whatever': 3, '\"On': 3, 'Parsonage.': 3, 'Never': 3, 'Louisa': 3, 'Heaven': 3, '\"Nothing': 3, '\"No;': 3, 'Darcy!\"': 3, '\"_That_': 3, '\"By': 3, 'Allow': 3, '\"At': 3, '1.E.9.': 3, 'Catherine;': 3, 'U.S.': 3, 'Carter': 3, 'Bingleys': 3, 'Between': 3, 'Be': 3, '\"Well,\"': 3, 'Most': 3, '\"Have': 3, 'King': 3, 'Elizabeth,\"': 3, 'Charlotte.': 3, 'Lewis': 3, 'House,': 3, 'Monday,': 3, 'People': 3, 'London;': 3, 'Jones': 3, 'Derbyshire.\"': 2, 'Bingley?\"': 2, '\"Gracechurch': 2, 'Seriously,': 2, '\"Take': 2, 'Again': 2, '\"Yours,': 2, '\"About': 2, 'England;': 2, 'Derbyshire;': 2, 'Kent?\"': 2, '\"Because': 2, 'Eliza.\"': 2, 'Last': 2, '\"Come': 2, '\"Tell': 2, '\"True.': 2, 'Indeed': 2, 'Meryton?': 2, '_My_': 2, 'Both': 2, 'Long.': 2, '\"Wickham': 2, 'License.': 2, 'Denny,': 2, '\"Only': 2, 'King.': 2, 'Anonymous': 2, '\"Indeed!\"': 2, 'Pardon': 2, 'Little': 2, '1.E.7': 2, 'Lord': 2, '\"Some': 2, 'Gretna': 2, 'Bingley!': 2, 'Rosings;': 2, '1.E.1.': 2, 'Jenkinson,': 2, 'Michael': 2, 'August': 2, 'Then,': 2, '\"Oh': 2, 'Meryton.\"': 2, '\"So,': 2, 'Clapham.': 2, 'Everything': 2, 'Terms': 2, 'February': 2, 'Gouldings': 2, 'Anne,': 2, 'Use': 2, '\"Her': 2, 'Come': 2, 'For,': 2, '\"All': 2, '\"Certainly': 2, 'Anne': 2, 'Charles': 2, 'Caroline,': 2, '\"Then': 2, '\"Pray,': 2, 'Royalty': 2, 'Produced': 2, '\"Has': 2, 'London,\"': 2, 'Pray,': 2, 'However': 2, 'Date:': 2, 'B.': 2, 'Lydia,\"': 2, '\"Nay,\"': 2, 'Was': 2, 'God!': 2, 'Nicholls': 2, 'May,': 2, 'Other': 2, 'Tuesday.': 2, 'More': 2, 'Ten': 2, 'W.': 2, 'Unless': 2, 'Clapham,': 2, 'Green,': 2, 'Prejudice,': 2, 'Here,': 2, 'Street;': 2, 'Younge': 2, 'Newcastle,': 2, 'Any': 2, 'Give': 2, '\"These': 2, '\"Could': 2, 'Dr.': 2, 'F.,': 2, 'Collins.\"': 2, 'Oh': 2, 'Annesley': 2, 'Vanilla': 2, 'During': 2, 'Yet,': 2, 'London?\"': 2, 'Forster.': 2, 'Wednesday.': 2, '\"While': 2, 'Dear': 2, 'See': 2, 'North,': 2, 'States,': 2, 'Wednesday,': 2, 'Pemberley;': 2, '\"Come,': 2, 'Barnet': 2, 'S.': 2, 'Street': 2, 'Tuesday;': 2, 'Bourgh,\"': 2, '1.E.8.': 2, 'Another': 2, '\"Will': 2, 'Nobody': 2, '\"So': 2, 'Tuesday': 2, 'Gardiners,': 2, 'Except': 2, '_He_': 2, '\"No--I': 2, 'Scarcely': 2, 'Grosvenor': 2, 'Donations': 2, 'Happy': 2, '\"Plain': 2, 'Besides,': 2, 'Hill,': 2, '\"Kitty': 2, 'Collins!': 2, 'Allowing': 2, '\"Yet': 2, 'Jane!\"': 2, 'Nay,': 2, 'Indeed,': 2, 'Scotland': 2, 'Come,': 2, '\"Then,': 2, 'Why,': 2, 'Consider': 2, 'Scotch': 2, 'Within': 2, 'Even': 2, '\"Ah!': 2, 'North.': 2, '\"Certainly,': 2, 'Never,': 2, '\"Certainly,\"': 2, 'Tease': 2, 'I,\"': 2, 'Hunsford.\"': 2, 'Forgive': 2, 'Haggerston': 2, 'Soon': 2, 'Instead': 2, '\"\\'Tis': 2, '\"Though': 2, '\"Now': 2, '1.E.8': 2, 'Yours,': 2, 'Lizzy;': 2, '\"Who': 2, 'Sometimes': 2, 'Younge,': 2, '\"La!': 2, '\"Now,': 2, 'Make': 2, '\"Believe': 2, '\"Would': 2, \"Lucases'\": 1, '\"If!': 1, '\"Unless': 1, 'Charlotte,\"': 1, 'England': 1, 'Well!': 1, 'Lambton?': 1, 'Family': 1, '_Too': 1, 'Release': 1, 'First,': 1, '_She_': 1, 'Once': 1, '\"Next': 1, 'Reflection': 1, '\"Was': 1, 'Despite': 1, 'York,': 1, '\"Undoubtedly,\"': 1, 'Brighton!': 1, 'Rosings.\"': 1, 'Lydia?\"': 1, 'June.': 1, 'Sermons.': 1, 'Darcy?': 1, 'Bennets,': 1, 'Breakfast': 1, 'Phillipses': 1, 'Lizzy!\"': 1, '\"Heaven': 1, 'Melan': 1, 'Lambton!': 1, 'Louisa,\"': 1, '\"Beyond': 1, 'Eliza!': 1, 'Christmas.': 1, 'Away': 1, '\"Care': 1, 'Regard': 1, 'Hunsford;': 1, 'Certain': 1, 'Foundation.\"': 1, 'Among': 1, 'Presuming': 1, 'Lucas,\"': 1, '\"Elizabeth': 1, '\"Design!': 1, '1.E.3.': 1, '\"True,\"': 1, 'Meryton?\"': 1, 'Heaven,': 1, 'Salt': 1, 'Fairbanks,': 1, 'Lambton': 1, '_Boulanger_--\"': 1, 'Assistance': 1, 'Calling': 1, 'Office,': 1, 'Christian': 1, 'Wickham\"': 1, '1.C': 1, '\"You,': 1, 'Compliance': 1, '\"Bingley.\"': 1, 'Foundation.': 1, 'Kent.': 1, '\"Impossible,': 1, '\"Elizabeth,': 1, 'Sarah,': 1, '\"Merely': 1, 'Lane,': 1, 'Pen': 1, '\"E.': 1, 'So,': 1, 'Ever': 1, 'England,': 1, 'Charles.\"': 1, 'Pleased': 1, \"'Oh!\": 1, '\"Sometimes.': 1, 'May': 1, 'Defect': 1, 'Oxford,': 1, 'No;': 1, 'Times': 1, 'Domain': 1, '\"One': 1, 'Imprudence': 1, 'Persuaded': 1, '\"Louisa,': 1, 'Michaelmas;': 1, 'Or,': 1, '1.F.4.': 1, 'Christian,': 1, 'Darcy_,': 1, 'Lydia.\"': 1, 'Bingley:': 1, 'Email': 1, '\"Colonel': 1, 'Occupied': 1, '\"Their': 1, 'Resignation': 1, 'Thoughtless': 1, 'Hart,': 1, 'Human': 1, 'Epsom': 1, 'Peak.': 1, 'Lucases.': 1, '\"Sir': 1, 'Anything': 1, 'I.\"': 1, 'Happiness': 1, '\"Lord,': 1, '1.B.': 1, 'Monday:': 1, '\"Go': 1, 'Others': 1, 'This,': 1, 'Warwick,': 1, 'Supposing': 1, 'Please': 1, 'Epsom.': 1, 'Lucas;': 1, 'Excuse': 1, '\"Right': 1, 'Service.': 1, 'Far': 1, 'Mamma': 1, '\"Dining': 1, 'Stay,': 1, 'Internal': 1, '\"Information': 1, 'Shall': 1, 'Elizabeth--': 1, 'Against': 1, 'Lakes.': 1, '\"Undoubtedly;\"': 1, 'Bennet?': 1, 'Kenilworth,': 1, 'September,': 1, '\"Or,': 1, 'Parsonage;': 1, 'Interested': 1, '\"All!': 1, 'Wholly': 1, 'Bennet!\"': 1, 'Society,': 1, 'Jane:': 1, '\"Exceedingly': 1, 'There,': 1, \"Bingleys'\": 1, 'City,': 1, '\"Dearest': 1, '\"But,\"': 1, 'Stoke,': 1, 'Special': 1, 'Militia': 1, 'Unfortunately': 1, 'Pursuing': 1, 'Wilfully': 1, '_Her_': 1, '\"Now,\"': 1, \"'Keep\": 1, 'Redistribution': 1, 'Foundation\"': 1, 'Bennet.\"': 1, 'Bell,': 1, \"'Lydia\": 1, 'Girls,': 1, 'Hatfield,': 1, 'Pratt,': 1, 'Unwilling': 1, 'Lake': 1, '\"Far': 1, 'Wickham?\"': 1, '\"Depend': 1, 'Under': 1, 'Bingley.\"': 1, '\"Both,\"': 1, 'Chamberlayne': 1, '\"Compared': 1, 'Scarborough,': 1, \"'Ah!\": 1, '\"_Her_': 1, 'Contributions': 1, 'Dove': 1, '\"Nonsense,': 1, '\"John': 1, 'Lakes.\"': 1, 'Things': 1, 'Whilst': 1, '\"Mamma,\"': 1, 'Robinson;': 1, '\"Then,\"': 1, 'Saturday?\"': 1, '\"Yours': 1, 'Thursday.': 1, 'Forster?': 1, 'Blenheim,': 1, 'Mary,\"': 1, 'London!': 1, 'Madam,\"': 1, 'Richard;': 1, 'First': 1, 'Gardiner?': 1, 'Professor': 1, \"'Lately,\": 1, 'Scotland.': 1, 'Lydia!': 1, 'Forsters': 1, '1.C.': 1, \"'Bingley,\": 1, 'Consoled': 1, 'South.': 1, 'Bromley,': 1, 'Italian': 1, 'Caroline.': 1, 'Collins!\"': 1, 'Netherfield?\"': 1, '\"Had': 1, 'Elizabeth!': 1, 'Courier,': 1, 'Newby': 1, 'Netherfield;': 1, 'English': 1, 'Risk': 1, '\"Already': 1, 'Brighton?\"': 1, 'Honourable': 1, 'Amazed': 1, \"'Mr.\": 1, 'Smiles': 1, 'Respect,': 1, '\"None': 1, 'November;': 1, 'Everything,': 1, 'Carter,': 1, 'Through': 1, 'King?': 1, 'Westerham,': 1, 'Gregory': 1, 'Lakes': 1, '\"Blame': 1, '1.A.': 1, 'Widely': 1, '\"Another': 1, 'Epsom,': 1, 'Church': 1, 'Fitzwilliam?': 1, 'Gutenberg:': 1, 'Street.\"': 1, 'Ramsgate.\"': 1, '\"Just': 1, 'Birmingham,': 1, 'Pemberley?\"': 1, 'Pope': 1, 'Contact': 1, 'Gardiner;': 1, 'Choose': 1, 'Hear': 1, 'Remember': 1, 'Madam.': 1, '\"Lizzy': 1, 'Webbs': 1, 'Mary?': 1, 'Kympton?\"': 1, 'Each': 1, 'Robinson.\"': 1, 'Jane?': 1, 'Brighton;': 1, 'Send': 1, 'Kitty!': 1, 'French': 1, 'Mamma,': 1, '\"Pardon': 1, 'Mississippi': 1, 'Hill?': 1, 'Single,': 1, 'October.': 1, 'Sections': 1, 'Something,': 1, '\"Which': 1, 'Convinced': 1, 'Affectation': 1, 'Britain': 1, 'Lodge;': 1, 'Ignorant': 1, 'Caroline,\"': 1, '\"Charles': 1, 'Eliza,\"': 1, 'Conjectures': 1, 'Arguments': 1, '\"Yes.': 1, 'Sir,--': 1, 'Day': 1, 'Anxiety': 1, 'Phillips.': 1, 'Saturday.\"': 1, 'Proud': 1, 'Thus,': 1, '\"Insolent': 1, 'Full': 1, 'Absence': 1, '\"Pride,\"': 1, '1.F.3.': 1, 'Fixed': 1, 'Thus': 1, '\"Poor': 1, 'Additional': 1, 'Lodge.': 1, '\"Go,': 1, 'Accordingly,': 1, '\"Defects,\"': 1, '_They_': 1, 'Lambton;': 1, '\"Sir,': 1, '\"Say': 1, 'Accept': 1, 'Director': 1, '\"La!\"': 1, 'Would': 1, 'Replacement': 1, 'Madam,': 1, 'Hope': 1, '(Lady': 1, 'Bath;': 1, 'Whenever': 1, 'Forster;': 1, '\"Were': 1, 'Twice': 1, 'Ashworth': 1, '1.E.7.': 1, 'January.': 1, '\"Be': 1, '\"Lydia': 1, 'Scotland:': 1, \"'This\": 1, '\"Caroline': 1, '1.E.': 1, 'Fatigued': 1, '\"True;': 1, 'Collinses,': 1, 'Younger': 1, '1.F.5.': 1, 'Author:': 1, \"Catherine,'\": 1, 'Putting': 1, '\"Hunsford,': 1, '1.F.': 1, 'Title:': 1, 'Maria;': 1, \"'I\": 1, 'Michaelmas,': 1, 'Imprudent': 1, '\"Much': 1, 'Spanish': 1, 'Philips.': 1, '\"Two': 1, 'Annesley,': 1, 'Amongst': 1, 'April,': 1, 'Say': 1, 'Daughters': 1, '\"This,': 1, 'Netherfield,\"': 1, '\"_My_': 1, 'Rendered': 1, '\"Nor': 1, '\"Implacable': 1, 'Dovedale,': 1, 'Nonsense,': 1, '1.E.2.': 1, '\"Very,': 1, 'Lucases;': 1, 'International': 1, 'Anxious': 1, 'Phillipses,': 1, '\"Wickham,': 1, 'Generous,': 1, 'North': 1, '\"\\'My': 1, '\"Money!': 1, 'Dearest': 1, 'Louisa.': 1, '\"Unhappy': 1, 'Gutenberg\"),': 1, 'Towards': 1, 'Esq.': 1, 'Charlotte!': 1, 'Mission': 1, '\"Engaged': 1, 'King,': 1, '1.D.': 1, 'Conceal': 1, 'Revenue': 1, 'Goulding': 1, '\"Undoubtedly.': 1, \"'Yes,'\": 1, '\"Perfectly': 1, 'Follies': 1, 'Kitty,\"': 1, '\"M.': 1, 'Sunday;': 1, \"Bennet,'\": 1, 'Sept.': 1, '\"Nearly': 1, 'Next': 1, '\"Sure': 1, 'Society': 1, 'Promise': 1, 'Wretched,': 1, '\"Neither': 1, 'Redistributing': 1, \"'Tis\": 1, 'Oakham': 1, 'West,': 1, 'Dale': 1, 'Mount': 1, 'Pratt': 1, '\"If,': 1, 'Catherine),': 1, 'Dawson': 1, 'Great': 1, 'Mount,': 1, 'Pulvis': 1, 'Ring': 1, '\"Not,': 1, 'He,': 1, 'Howsoever': 1, 'Bennet:': 1, 'Words': 1, 'God': 1, 'Now,': 1, 'Elizabeth.\"': 1, 'Irish': 1, 'Adieu': 1, 'Liverpool:': 1, 'July,': 1, 'Bingley)': 1, 'Commerce;': 1, '\"Since': 1, 'Kitty?\"': 1, 'End': 1, 'Sally': 1, 'Recovering': 1, 'Change': 1, 'Letters': 1, '\"Nay,': 1, '\"Exceed': 1, 'Stupid': 1, 'British': 1, 'Three': 1, 'Imagine': 1, '\"Where': 1, '\"Ah,': 1, 'Find': 1, '1.E': 1, 'Rosings?\"': 1, '\"Jane,': 1, 'Netherfield?': 1, 'January': 1, '\"Such': 1, 'Hill.': 1, 'George,': 1, 'Wednesday;': 1, 'Creating': 1, 'Put': 1, 'House': 1, 'Wherever': 1, 'Must': 1, 'Prejudice': 1, \"Wickham.'\": 1, '1.E.4.': 1, 'Eager': 1, 'Lambton?\"': 1, 'Charlotte;': 1, 'P.': 1, '\"Neglect!': 1, 'Women': 1, '\"Haye': 1, \"'Having\": 1, 'Scotland,': 1, 'England.': 1, 'F3.': 1, '\"_Mr.': 1, 'Language:': 1, '\"Probably': 1, 'William:': 1, \"'Lady\": 1, '\\ufeffThe': 1, 'Steady': 1, '\"Really,': 1, '\"Remember,': 1, 'Christmas.\"': 1, '1.F.1.': 1, 'Cheapside.\"': 1, 'Copyright': 1, 'Adieu!': 1, 'Stone.': 1, 'Nearly': 1, 'Hurst?\"': 1, '\"Certainly.': 1, '1.F.6.': 1, 'What,': 1, '_His_': 1, 'But,\"': 1, 'Attendance,': 1, '\"Mary': 1, 'March': 1, 'Darcy:': 1, 'Refund\"': 1, 'Observing': 1, 'Posting': 1, 'Matlock,': 1, 'Console': 1, 'Hill!': 1, \"Bennet.'--My\": 1, 'Vain,': 1, '\"Most': 1, 'Hart': 1, '\"Laugh': 1, 'Newcastle.': 1, 'Friday,': 1, 'Meryton!\"': 1, 'Newcastle': 1, 'Lord,': 1, 'Believe': 1, 'Meryton,\"': 1, 'Bingleys.': 1, 'Astonishment,': 1, '\"Something': 1, \"'_She_\": 1, '\"Hunsford,\"': 1, 'Hursts': 1, 'Forster,\"': 1, 'Nothing,': 1, 'Lucas)': 1, 'Morris': 1, 'Take': 1, 'Into': 1, '\"Removed!\"': 1, 'Vanity': 1, '\"Our': 1, '\"Well': 1, 'Impossible!': 1, 'Brighton!\"': 1, '\"Does': 1, '1.E.5.': 1, 'Importance': 1, 'Chatsworth,': 1, '1.E.6.': 1, '\"Except,\"': 1, '\"Write': 1, 'Think': 1, 'Whether': 1, 'Executive': 1, 'Teasing,': 1, '\"\\'After': 1, 'Dear,': 1, 'Cheapside,\"': 1, '\"Indeed,\"': 1, 'Painful': 1, 'House!': 1, 'Archbishop,': 1, 'When,': 1, '1.F.2.': 1, 'Right': 1, 'Unfeeling,': 1, '\"Ten': 1, '\"Obstinate,': 1, '\"Read': 1, 'London.\"': 1, 'Matlock': 1, 'Balls': 1, 'November': 1, 'Woods': 1, '\"Never,': 1, 'Updated': 1, 'Vain': 1, 'John': 1, 'Ramsgate;': 1, 'Easter': 1, 'Bourgh?': 1, '\"Perhaps,\"': 1, 'Bourgh.\"': 1, 'There--I': 1, 'Compliments': 1, 'Surprise': 1, 'Eastbourne': 1, 'Chief': 1, 'Thoughtlessness,': 1, 'Maria.': 1, '\"I,': 1, 'Lodge': 1, 'Harringtons': 1, 'Theatre': 1, 'Harriet': 1, 'Militia,': 1, '\"Complied': 1, '\"Excuse': 1, 'March,\"': 1, 'Bennet!': 1, 'Forster?\"': 1, 'Hertfordshire.\"': 1, 'Lucas.\"': 1, '\"Every': 1, 'Bakewell,': 1, 'Eliza?': 1, '\"Surely': 1, 'Ramsgate': 1, 'Easter,': 1, 'Intimate': 1, '\"Ah!\"': 1, '\"Yes': 1, 'Stop': 1, 'Long,\"': 1, '\"Hate': 1, 'War': 1, 'Public': 1, 'Almost': 1, 'Netherfield.\"': 1, '\"Speak': 1})\n"
     ]
    }
   ],
   "source": [
    "from collections import Counter\n",
    "import re, string\n",
    "printable = string.printable\n",
    "\n",
    "with open('data/words.txt','r') as f:\n",
    "    word_list = [word for line in f \n",
    "                     for word in line.split()]\n",
    "\n",
    "with open('data/pride.txt','r') as f:\n",
    "    \"\"\"\n",
    "    title_counter = Counter(word\n",
    "                        for line in f\n",
    "                        for word in re.sub('[^A-Za-z0-9]+',' ', line).split()\n",
    "                        if word.istitle()\n",
    "                            if word.lower() not in list(printable))  \n",
    "    \"\"\"\n",
    "\n",
    "    tle_counter = Counter(word\n",
    "                            for line in f\n",
    "                            for word in line.split()\n",
    "                            if word.istitle()\n",
    "                            if word.lower() not in list(printable))    \n",
    "\n",
    "print(tle_counter)"
   ]
  },
  {
   "cell_type": "code",
   "execution_count": 41,
   "metadata": {
    "collapsed": false
   },
   "outputs": [
    {
     "data": {
      "text/plain": [
       "False"
      ]
     },
     "execution_count": 41,
     "metadata": {},
     "output_type": "execute_result"
    }
   ],
   "source": [
    "\"eqewr\".istitle()"
   ]
  },
  {
   "cell_type": "code",
   "execution_count": 18,
   "metadata": {
    "collapsed": false
   },
   "outputs": [
    {
     "data": {
      "text/plain": [
       "'hello, word'"
      ]
     },
     "execution_count": 18,
     "metadata": {},
     "output_type": "execute_result"
    }
   ],
   "source": [
    "\"Hello, word\".lower()"
   ]
  },
  {
   "cell_type": "code",
   "execution_count": 29,
   "metadata": {
    "collapsed": false
   },
   "outputs": [
    {
     "data": {
      "text/plain": [
       "<map at 0x53665f8>"
      ]
     },
     "execution_count": 29,
     "metadata": {},
     "output_type": "execute_result"
    }
   ],
   "source": [
    "map(str.lower,[\"A\",\"B\",\"C\"])"
   ]
  },
  {
   "cell_type": "code",
   "execution_count": 57,
   "metadata": {
    "collapsed": false
   },
   "outputs": [
    {
     "data": {
      "text/plain": [
       "'Helloline'"
      ]
     },
     "execution_count": 57,
     "metadata": {},
     "output_type": "execute_result"
    }
   ],
   "source": [
    "re.sub('[^A-Za-z0-9]+','', \"!##Hello line\")"
   ]
  },
  {
   "cell_type": "code",
   "execution_count": null,
   "metadata": {
    "collapsed": true
   },
   "outputs": [],
   "source": []
  }
 ],
 "metadata": {
  "anaconda-cloud": {},
  "kernelspec": {
   "display_name": "Python [conda env:py34]",
   "language": "python",
   "name": "conda-env-py34-py"
  },
  "language_info": {
   "codemirror_mode": {
    "name": "ipython",
    "version": 3
   },
   "file_extension": ".py",
   "mimetype": "text/x-python",
   "name": "python",
   "nbconvert_exporter": "python",
   "pygments_lexer": "ipython3",
   "version": "3.4.5"
  }
 },
 "nbformat": 4,
 "nbformat_minor": 0
}
