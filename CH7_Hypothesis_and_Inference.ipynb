{
 "cells": [
  {
   "cell_type": "code",
   "execution_count": 1,
   "metadata": {
    "collapsed": true
   },
   "outputs": [],
   "source": [
    "%matplotlib inline\n",
    "import matplotlib.pyplot as plt\n",
    "from collections import Counter\n",
    "import math, random"
   ]
  },
  {
   "cell_type": "code",
   "execution_count": 2,
   "metadata": {
    "collapsed": false
   },
   "outputs": [],
   "source": [
    "def normal_cdf(x, mu=0,sigma=1):\n",
    "    return (1 + math.erf((x - mu) / math.sqrt(2) / sigma)) / 2\n",
    "\n",
    "def inverse_normal_cdf(p, mu=0, sigma=1, tolerance=0.00001):\n",
    "    \"\"\"find approximate inverse using binary search\"\"\"\n",
    "\n",
    "    # if not standard, compute standard and rescale\n",
    "    if mu != 0 or sigma != 1:\n",
    "        return mu + sigma * inverse_normal_cdf(p, tolerance=tolerance)\n",
    "\n",
    "    low_z, low_p = -10.0, 0            # normal_cdf(-10) is (very close to) 0\n",
    "    hi_z,  hi_p  =  10.0, 1            # normal_cdf(10)  is (very close to) 1\n",
    "    while hi_z - low_z > tolerance:\n",
    "        mid_z = (low_z + hi_z) / 2     # consider the midpoint\n",
    "        mid_p = normal_cdf(mid_z)      # and the cdf's value there\n",
    "        if mid_p < p:\n",
    "            # midpoint is still too low, search above it\n",
    "            low_z, low_p = mid_z, mid_p\n",
    "        elif mid_p > p:\n",
    "            # midpoint is still too high, search below it\n",
    "            hi_z, hi_p = mid_z, mid_p\n",
    "        else:\n",
    "            break\n",
    "\n",
    "    return mid_z"
   ]
  },
  {
   "cell_type": "markdown",
   "metadata": {
    "collapsed": false
   },
   "source": [
    "## 7.1 統計假設檢驗\n",
    "就是H0與H1，並且否定H0  "
   ]
  },
  {
   "cell_type": "markdown",
   "metadata": {
    "collapsed": true
   },
   "source": [
    "## 7.2 丟硬幣"
   ]
  },
  {
   "cell_type": "code",
   "execution_count": 3,
   "metadata": {
    "collapsed": true
   },
   "outputs": [],
   "source": [
    "def normal_approximation_to_binomial(n, p):\n",
    "    \"\"\"finds mu and sigma corresponding to a Binomial(n, p)\"\"\"\n",
    "    mu = p * n\n",
    "    sigma = math.sqrt(p * (1 - p) * n)\n",
    "    return mu, sigma"
   ]
  },
  {
   "cell_type": "code",
   "execution_count": 4,
   "metadata": {
    "collapsed": true
   },
   "outputs": [],
   "source": [
    "#####\n",
    "#\n",
    "# probabilities a normal lies in an interval\n",
    "#\n",
    "######\n",
    "\n",
    "# the normal cdf _is_ the probability the variable is below a threshold\n",
    "normal_probability_below = normal_cdf\n",
    "\n",
    "# it's above the threshold if it's not below the threshold\n",
    "def normal_probability_above(lo, mu=0, sigma=1):\n",
    "    return 1 - normal_cdf(lo, mu, sigma)\n",
    "\n",
    "# it's between if it's less than hi, but not less than lo\n",
    "def normal_probability_between(lo, hi, mu=0, sigma=1):\n",
    "    return normal_cdf(hi, mu, sigma) - normal_cdf(lo, mu, sigma)\n",
    "\n",
    "# it's outside if it's not between\n",
    "def normal_probability_outside(lo, hi, mu=0, sigma=1):\n",
    "    return 1 - normal_probability_between(lo, hi, mu, sigma)"
   ]
  },
  {
   "cell_type": "code",
   "execution_count": 5,
   "metadata": {
    "collapsed": true
   },
   "outputs": [],
   "source": [
    "######\n",
    "#\n",
    "#  normal bounds\n",
    "#\n",
    "######\n",
    "\n",
    "\n",
    "def normal_upper_bound(probability, mu=0, sigma=1):\n",
    "    \"\"\"returns the z for which P(Z <= z) = probability\"\"\"\n",
    "    return inverse_normal_cdf(probability, mu, sigma)\n",
    "\n",
    "def normal_lower_bound(probability, mu=0, sigma=1):\n",
    "    \"\"\"returns the z for which P(Z >= z) = probability\"\"\"\n",
    "    return inverse_normal_cdf(1 - probability, mu, sigma)\n",
    "\n",
    "def normal_two_sided_bounds(probability, mu=0, sigma=1):\n",
    "    \"\"\"returns the symmetric (about the mean) bounds\n",
    "    that contain the specified probability\"\"\"\n",
    "    tail_probability = (1 - probability) / 2\n",
    "\n",
    "    # upper bound should have tail_probability above it\n",
    "    upper_bound = normal_lower_bound(tail_probability, mu, sigma)\n",
    "\n",
    "    # lower bound should have tail_probability below it\n",
    "    lower_bound = normal_upper_bound(tail_probability, mu, sigma)\n",
    "\n",
    "    return lower_bound, upper_bound"
   ]
  },
  {
   "cell_type": "code",
   "execution_count": 6,
   "metadata": {
    "collapsed": false
   },
   "outputs": [
    {
     "name": "stdout",
     "output_type": "stream",
     "text": [
      "95% bounds based on assumption p is 0.5\n",
      "mu_0 500.0\n",
      "sigma_0 15.811388300841896\n",
      "normal_two_sided_bounds(0.95, mu_0, sigma_0) (469.01026640487555, 530.9897335951244)\n"
     ]
    }
   ],
   "source": [
    "mu_0, sigma_0 = normal_approximation_to_binomial(1000, 0.5)\n",
    "print(\"95% bounds based on assumption p is 0.5\")\n",
    "print(\"mu_0\", mu_0)\n",
    "print(\"sigma_0\", sigma_0)\n",
    "print(\"normal_two_sided_bounds(0.95, mu_0, sigma_0)\", normal_two_sided_bounds(0.95, mu_0, sigma_0))"
   ]
  },
  {
   "cell_type": "code",
   "execution_count": 7,
   "metadata": {
    "collapsed": true
   },
   "outputs": [],
   "source": [
    "def two_sided_p_value(x, mu=0, sigma=1):\n",
    "    if x >= mu:\n",
    "        # if x is greater than the mean, the tail is above x\n",
    "        return 2 * normal_probability_above(x, mu, sigma)\n",
    "    else:\n",
    "        # if x is less than the mean, the tail is below x\n",
    "        return 2 * normal_probability_below(x, mu, sigma)\n",
    "\n",
    "def count_extreme_values():\n",
    "    extreme_value_count = 0\n",
    "    for _ in range(100000):\n",
    "        num_heads = sum(1 if random.random() < 0.5 else 0    # count # of heads\n",
    "                        for _ in range(1000))                # in 1000 flips\n",
    "        if num_heads >= 530 or num_heads <= 470:             # and count how often\n",
    "            extreme_value_count += 1                         # the # is 'extreme'\n",
    "\n",
    "    return extreme_value_count / 100000\n",
    "\n",
    "upper_p_value = normal_probability_above\n",
    "lower_p_value = normal_probability_below"
   ]
  },
  {
   "cell_type": "code",
   "execution_count": 8,
   "metadata": {
    "collapsed": false
   },
   "outputs": [
    {
     "name": "stdout",
     "output_type": "stream",
     "text": [
      "power of a test\n",
      "95% bounds based on assumption p is 0.5\n",
      "lo 469.01026640487555\n",
      "hi 530.9897335951244\n",
      "actual mu and sigma based on p = 0.55\n",
      "mu_1 550.0\n",
      "sigma_1 15.732132722552274\n",
      "type 2 probability 0.11345199870463285\n",
      "power 0.8865480012953671\n"
     ]
    },
    {
     "data": {
      "text/plain": [
       "<function print>"
      ]
     },
     "execution_count": 8,
     "metadata": {},
     "output_type": "execute_result"
    }
   ],
   "source": [
    "print(\"power of a test\")\n",
    "print(\"95% bounds based on assumption p is 0.5\")\n",
    "\n",
    "lo, hi = normal_two_sided_bounds(0.95, mu_0, sigma_0)\n",
    "print(\"lo\", lo)\n",
    "print(\"hi\", hi)\n",
    "\n",
    "print(\"actual mu and sigma based on p = 0.55\")\n",
    "mu_1, sigma_1 = normal_approximation_to_binomial(1000, 0.55)\n",
    "print(\"mu_1\", mu_1)\n",
    "print(\"sigma_1\", sigma_1)\n",
    "\n",
    "# a type 2 error means we fail to reject the null hypothesis\n",
    "# which will happen when X is still in our original interval\n",
    "type_2_probability = normal_probability_between(lo, hi, mu_1, sigma_1)\n",
    "power = 1 - type_2_probability # 0.887\n",
    "\n",
    "print(\"type 2 probability\", type_2_probability)\n",
    "print(\"power\", power)\n",
    "print\n",
    "\n"
   ]
  },
  {
   "cell_type": "code",
   "execution_count": 9,
   "metadata": {
    "collapsed": false
   },
   "outputs": [
    {
     "name": "stdout",
     "output_type": "stream",
     "text": [
      "one-sided test\n",
      "hi 526.0073585242053\n",
      "type 2 probability 0.06362051966928273\n",
      "power 0.9363794803307173\n",
      "\n",
      "two_sided_p_value(529.5, mu_0, sigma_0) 0.06207721579598857\n",
      "two_sided_p_value(531.5, mu_0, sigma_0) 0.046345287837786575\n",
      "upper_p_value(525, mu_0, sigma_0) 0.056923149003329065\n",
      "upper_p_value(527, mu_0, sigma_0) 0.04385251499101195\n",
      "\n"
     ]
    }
   ],
   "source": [
    "print(\"one-sided test\")\n",
    "hi = normal_upper_bound(0.95, mu_0, sigma_0)\n",
    "print(\"hi\", hi) # is 526 (< 531, since we need more probability in the upper tail)\n",
    "type_2_probability = normal_probability_below(hi, mu_1, sigma_1)\n",
    "power = 1 - type_2_probability # = 0.936\n",
    "print(\"type 2 probability\", type_2_probability)\n",
    "print(\"power\", power)\n",
    "print()\n",
    "\n",
    "print(\"two_sided_p_value(529.5, mu_0, sigma_0)\", two_sided_p_value(529.5, mu_0, sigma_0))\n",
    "\n",
    "print(\"two_sided_p_value(531.5, mu_0, sigma_0)\", two_sided_p_value(531.5, mu_0, sigma_0))\n",
    "\n",
    "print(\"upper_p_value(525, mu_0, sigma_0)\", upper_p_value(525, mu_0, sigma_0))\n",
    "print(\"upper_p_value(527, mu_0, sigma_0)\", upper_p_value(527, mu_0, sigma_0))\n",
    "print()"
   ]
  },
  {
   "cell_type": "markdown",
   "metadata": {},
   "source": [
    "## 7.3 置信區間"
   ]
  },
  {
   "cell_type": "code",
   "execution_count": 10,
   "metadata": {
    "collapsed": false
   },
   "outputs": [
    {
     "name": "stdout",
     "output_type": "stream",
     "text": [
      "p_hat: 0.525\n",
      "mu:0.525 sigma0.015791611697353755\n",
      "Confidence Intervals of P: (0.4940490278129096, 0.5559509721870904)\n",
      "\n",
      "p_hat: 0.54\n",
      "mu:0.54 sigma0.015760710643876435\n",
      "Confidence Intervals of P: (0.4940490278129096, 0.5559509721870904)\n"
     ]
    }
   ],
   "source": [
    "p_hat = 525 / 1000 \n",
    "mu = p_hat \n",
    "sigma = math.sqrt(p_hat * (1 - p_hat) / 1000)   # 0.0158\n",
    "\n",
    "interval =normal_two_sided_bounds(0.95, mu, sigma)        # [0.4940, 0.5560]\n",
    "print(\"p_hat:\", p_hat)\n",
    "print(\"mu:{0} sigma{1}\".format(mu, sigma))\n",
    "print(\"Confidence Intervals of P:\", interval)\n",
    "print()\n",
    "\n",
    "p_hat = 540 / 1000 \n",
    "mu = p_hat \n",
    "sigma = math.sqrt(p_hat * (1 - p_hat) / 1000) # 0.0158 \n",
    "normal_two_sided_bounds(0.95, mu, sigma) # [0.5091, 0.5709]\n",
    "print(\"p_hat:\", p_hat)\n",
    "print(\"mu:{0} sigma{1}\".format(mu, sigma))\n",
    "print(\"Confidence Intervals of P:\", interval)"
   ]
  },
  {
   "cell_type": "markdown",
   "metadata": {},
   "source": [
    "## 7.4 P-hacking"
   ]
  },
  {
   "cell_type": "code",
   "execution_count": 29,
   "metadata": {
    "collapsed": false
   },
   "outputs": [],
   "source": [
    "#\n",
    "# P-hacking\n",
    "#\n",
    "##\n",
    "\n",
    "def run_experiment():\n",
    "    \"\"\"flip a fair coin 1000 times, True = heads, False = tails\"\"\"\n",
    "    return [random.random() < 0.5 for _ in range(1000)]\n",
    "\n",
    "def reject_fairness(experiment):\n",
    "    \"\"\"using the 5% significance levels\"\"\"\n",
    "    num_heads = len([flip for flip in experiment if flip])\n",
    "    return num_heads < 469 or num_heads > 531"
   ]
  },
  {
   "cell_type": "code",
   "execution_count": 31,
   "metadata": {
    "collapsed": false
   },
   "outputs": [
    {
     "name": "stdout",
     "output_type": "stream",
     "text": [
      "P-hacking\n",
      "46 rejections out of 1000\n"
     ]
    }
   ],
   "source": [
    "print(\"P-hacking\")\n",
    "\n",
    "random.seed(0)\n",
    "experiments = [run_experiment() for _ in range(1000)]\n",
    "num_rejections = len([experiment\n",
    "                      for experiment in experiments\n",
    "                      if reject_fairness(experiment)])\n",
    "\n",
    "print(num_rejections, \"rejections out of 1000\")"
   ]
  },
  {
   "cell_type": "markdown",
   "metadata": {},
   "source": [
    "## 7.5 案例：運行A/B測試"
   ]
  },
  {
   "cell_type": "code",
   "execution_count": 15,
   "metadata": {
    "collapsed": true
   },
   "outputs": [],
   "source": [
    "##\n",
    "#\n",
    "# running an A/B test\n",
    "#\n",
    "##\n",
    "\n",
    "def estimated_parameters(N, n):\n",
    "    p = n / N\n",
    "    sigma = math.sqrt(p * (1 - p) / N)\n",
    "    return p, sigma\n",
    "\n",
    "def a_b_test_statistic(N_A, n_A, N_B, n_B):\n",
    "    p_A, sigma_A = estimated_parameters(N_A, n_A)\n",
    "    p_B, sigma_B = estimated_parameters(N_B, n_B)\n",
    "    return (p_B - p_A) / math.sqrt(sigma_A ** 2 + sigma_B ** 2)"
   ]
  },
  {
   "cell_type": "code",
   "execution_count": 32,
   "metadata": {
    "collapsed": false
   },
   "outputs": [
    {
     "name": "stdout",
     "output_type": "stream",
     "text": [
      "A/B testing\n",
      "a_b_test_statistic(1000, 200, 1000, 180) -1.1403464899034472\n",
      "p-value 0.254141976542236\n",
      "a_b_test_statistic(1000, 200, 1000, 150) -2.948839123097944\n",
      "p-value 0.003189699706216853\n"
     ]
    }
   ],
   "source": [
    "print(\"A/B testing\")\n",
    "z = a_b_test_statistic(1000, 200, 1000, 180)\n",
    "print(\"a_b_test_statistic(1000, 200, 1000, 180)\", z)\n",
    "print(\"p-value\", two_sided_p_value(z))\n",
    "z = a_b_test_statistic(1000, 200, 1000, 150)\n",
    "print(\"a_b_test_statistic(1000, 200, 1000, 150)\", z)\n",
    "print(\"p-value\", two_sided_p_value(z))"
   ]
  },
  {
   "cell_type": "markdown",
   "metadata": {},
   "source": [
    "## 7.6 貝葉斯推斷"
   ]
  },
  {
   "cell_type": "code",
   "execution_count": 33,
   "metadata": {
    "collapsed": true
   },
   "outputs": [],
   "source": [
    "##\n",
    "#\n",
    "# Bayesian Inference\n",
    "#\n",
    "##\n",
    "\n",
    "def B(alpha, beta):\n",
    "    \"\"\"a normalizing constant so that the total probability is 1\"\"\"\n",
    "    return math.gamma(alpha) * math.gamma(beta) / math.gamma(alpha + beta)\n",
    "\n",
    "def beta_pdf(x, alpha, beta):\n",
    "    if x < 0 or x > 1:          # no weight outside of [0, 1]\n",
    "        return 0\n",
    "    return x ** (alpha - 1) * (1 - x) ** (beta - 1) / B(alpha, beta)"
   ]
  },
  {
   "cell_type": "code",
   "execution_count": 47,
   "metadata": {
    "collapsed": false
   },
   "outputs": [
    {
     "data": {
      "image/png": "[encoded data removed]",
      "text/plain": [
       "<matplotlib.figure.Figure at 0x6eff240>"
      ]
     },
     "metadata": {},
     "output_type": "display_data"
    }
   ],
   "source": [
    "# 載入需要的...\n",
    "\n",
    "import matplotlib.pyplot as plt\n",
    "import numpy as np\n",
    "\n",
    "# 準備數據 ... 假設我要畫一個sin波 從0~180度\n",
    "\n",
    "x = np.arange(0,1)\n",
    "y = np.sin(x * np.pi / 180.0)\n",
    "\n",
    "\n",
    "# 開始畫圖\n",
    "\n",
    "    # 設定要畫的的x,y數據list....\n",
    "\n",
    "plt.plot(x,y) \n",
    "\n",
    "    # 設定圖的範圍, 不設的話，系統會自行決定\n",
    "#plt.xlim(0,1)\n",
    "#plt.ylim(0,10)\n",
    "    # 照需要寫入x 軸和y軸的 label 以及title\n",
    "\n",
    "plt.xlabel(\"x-axis\") \n",
    "plt.ylabel(\"y-axis\") \n",
    "plt.title(\"The Title\") \n",
    "\n",
    "\n",
    "    # 在這個指令之前，都還在做畫圖的動作 \n",
    "    # 這個指令算是 \"秀圖\" \n",
    "plt.show() "
   ]
  },
  {
   "cell_type": "code",
   "execution_count": null,
   "metadata": {
    "collapsed": true
   },
   "outputs": [],
   "source": []
  }
 ],
 "metadata": {
  "anaconda-cloud": {},
  "kernelspec": {
   "display_name": "Python [py34]",
   "language": "python",
   "name": "Python [py34]"
  },
  "language_info": {
   "codemirror_mode": {
    "name": "ipython",
    "version": 3
   },
   "file_extension": ".py",
   "mimetype": "text/x-python",
   "name": "python",
   "nbconvert_exporter": "python",
   "pygments_lexer": "ipython3",
   "version": "3.4.5"
  }
 },
 "nbformat": 4,
 "nbformat_minor": 0
}
